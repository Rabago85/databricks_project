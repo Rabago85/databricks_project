{
 "cells": [
  {
   "cell_type": "code",
   "execution_count": 0,
   "metadata": {
    "application/vnd.databricks.v1+cell": {
     "cellMetadata": {
      "byteLimit": 2048000,
      "rowLimit": 10000
     },
     "inputWidgets": {},
     "nuid": "077e90c7-67f4-46e4-8ffb-887a6f9c913f",
     "showTitle": false,
     "tableResultSettingsMap": {},
     "title": ""
    }
   },
   "outputs": [
    {
     "output_type": "execute_result",
     "data": {
      "text/plain": [
       "'dev'"
      ]
     },
     "execution_count": 16,
     "metadata": {},
     "output_type": "execute_result"
    }
   ],
   "source": [
    "dbutils.widgets.text(name=\"env\", defaultValue=\"\", label=\"Enter environment\")\n",
    "env = dbutils.widgets.get(\"env\")\n",
    "env"
   ]
  },
  {
   "cell_type": "code",
   "execution_count": 0,
   "metadata": {
    "application/vnd.databricks.v1+cell": {
     "cellMetadata": {
      "byteLimit": 2048000,
      "rowLimit": 10000
     },
     "inputWidgets": {},
     "nuid": "aabfc72a-df61-4e17-9678-e23e17bc8ee2",
     "showTitle": false,
     "tableResultSettingsMap": {},
     "title": ""
    }
   },
   "outputs": [],
   "source": [
    "from pyspark.sql import DataFrame\n",
    "from functools import reduce\n",
    "from dataclasses import dataclass\n",
    "from pyspark.sql.types import IntegerType, DoubleType, StringType\n",
    "from pyspark.sql.functions import current_timestamp\n"
   ]
  },
  {
   "cell_type": "code",
   "execution_count": 0,
   "metadata": {
    "application/vnd.databricks.v1+cell": {
     "cellMetadata": {
      "byteLimit": 2048000,
      "rowLimit": 10000
     },
     "inputWidgets": {},
     "nuid": "25266357-02d6-479c-af24-36a06a0ad92a",
     "showTitle": false,
     "tableResultSettingsMap": {},
     "title": ""
    }
   },
   "outputs": [],
   "source": [
    "%run \"./include\""
   ]
  },
  {
   "cell_type": "code",
   "execution_count": 0,
   "metadata": {
    "application/vnd.databricks.v1+cell": {
     "cellMetadata": {
      "byteLimit": 2048000,
      "rowLimit": 10000
     },
     "inputWidgets": {},
     "nuid": "39a782e0-79f1-4b7d-8904-f9e90a2363fb",
     "showTitle": false,
     "tableResultSettingsMap": {},
     "title": ""
    }
   },
   "outputs": [
    {
     "output_type": "execute_result",
     "data": {
      "text/plain": [
       "('abfss://landing@dlsunitycat.dfs.core.windows.net/',\n",
       " 'abfss://medallion@dlsunitycat.dfs.core.windows.net/bronze',\n",
       " 'abfss://medallion@dlsunitycat.dfs.core.windows.net/silver',\n",
       " 'abfss://medallion@dlsunitycat.dfs.core.windows.net/gold')"
      ]
     },
     "execution_count": 22,
     "metadata": {},
     "output_type": "execute_result"
    },
    {
     "output_type": "stream",
     "name": "stdout",
     "output_type": "stream",
     "text": [
      "End\n"
     ]
    }
   ],
   "source": [
    "%run \"./paths\""
   ]
  },
  {
   "cell_type": "code",
   "execution_count": 0,
   "metadata": {
    "application/vnd.databricks.v1+cell": {
     "cellMetadata": {
      "byteLimit": 2048000,
      "rowLimit": 10000
     },
     "inputWidgets": {},
     "nuid": "1c757471-d152-4c27-bc2a-f94c8c9be30c",
     "showTitle": false,
     "tableResultSettingsMap": {},
     "title": ""
    }
   },
   "outputs": [],
   "source": [
    "columns_to_rename = {\"BusinessYear\": \"business_year\",\n",
    "                     \"StateCode\": \"state_code\",\n",
    "                     \"PlanId\": \"plan_id\",\n",
    "                     \"RatingAreaId\": \"rating_area_id\",\n",
    "                     \"Age\": \"age\",      \n",
    "                     \"IndividualRate\": \"rate\"}\n",
    "\n",
    "@SchemaDefiner.get_pyspark_schema\n",
    "@dataclass\n",
    "class Write_Schema:\n",
    "    business_year: IntegerType\n",
    "    state_code: StringType\n",
    "    plan_id: StringType\n",
    "    rating_area_id: StringType\n",
    "    age: StringType\n",
    "    rate: DoubleType\n",
    "\n",
    "write_schema = Write_Schema()"
   ]
  },
  {
   "cell_type": "code",
   "execution_count": 0,
   "metadata": {
    "application/vnd.databricks.v1+cell": {
     "cellMetadata": {
      "byteLimit": 2048000,
      "rowLimit": 10000
     },
     "inputWidgets": {},
     "nuid": "7630dd3d-6a18-483b-a0ff-52a192e86e22",
     "showTitle": false,
     "tableResultSettingsMap": {},
     "title": ""
    }
   },
   "outputs": [],
   "source": [
    "rates_csv_reader = csv_reader(columns_to_rename, write_schema)"
   ]
  },
  {
   "cell_type": "code",
   "execution_count": 0,
   "metadata": {
    "application/vnd.databricks.v1+cell": {
     "cellMetadata": {
      "byteLimit": 2048000,
      "rowLimit": 10000
     },
     "inputWidgets": {},
     "nuid": "85fc791c-0a2b-4c74-86f3-3f9efe56e18f",
     "showTitle": false,
     "tableResultSettingsMap": {},
     "title": ""
    }
   },
   "outputs": [
    {
     "output_type": "execute_result",
     "data": {
      "text/plain": [
       "['abfss://landing@dlsunitycat.dfs.core.windows.net/raw_rates/2018_rates.csv',\n",
       " 'abfss://landing@dlsunitycat.dfs.core.windows.net/raw_rates/2019_rates.csv',\n",
       " 'abfss://landing@dlsunitycat.dfs.core.windows.net/raw_rates/2020_rates.csv',\n",
       " 'abfss://landing@dlsunitycat.dfs.core.windows.net/raw_rates/2021_rates.csv',\n",
       " 'abfss://landing@dlsunitycat.dfs.core.windows.net/raw_rates/2022_rates.csv',\n",
       " 'abfss://landing@dlsunitycat.dfs.core.windows.net/raw_rates/2023_rates.csv',\n",
       " 'abfss://landing@dlsunitycat.dfs.core.windows.net/raw_rates/2024_rates.csv']"
      ]
     },
     "execution_count": 27,
     "metadata": {},
     "output_type": "execute_result"
    }
   ],
   "source": [
    "table = 'rates'\n",
    "raw_rates_files = dbutils.fs.ls(raw_paths[table])\n",
    "rates_csv_pths = [file.path for file in raw_rates_files]\n",
    "rates_csv_pths"
   ]
  },
  {
   "cell_type": "code",
   "execution_count": 0,
   "metadata": {
    "application/vnd.databricks.v1+cell": {
     "cellMetadata": {
      "byteLimit": 2048000,
      "rowLimit": 10000
     },
     "inputWidgets": {},
     "nuid": "7ecfd3a9-9816-40b3-a205-4fd49eaaec0a",
     "showTitle": false,
     "tableResultSettingsMap": {},
     "title": ""
    }
   },
   "outputs": [
    {
     "output_type": "execute_result",
     "data": {
      "text/plain": [
       "[DataFrame[business_year: int, state_code: string, plan_id: string, rating_area_id: string, age: string, rate: double],\n",
       " DataFrame[business_year: int, state_code: string, plan_id: string, rating_area_id: string, age: string, rate: double],\n",
       " DataFrame[business_year: int, state_code: string, plan_id: string, rating_area_id: string, age: string, rate: double],\n",
       " DataFrame[business_year: int, state_code: string, plan_id: string, rating_area_id: string, age: string, rate: double],\n",
       " DataFrame[business_year: int, state_code: string, plan_id: string, rating_area_id: string, age: string, rate: double],\n",
       " DataFrame[business_year: int, state_code: string, plan_id: string, rating_area_id: string, age: string, rate: double],\n",
       " DataFrame[business_year: int, state_code: string, plan_id: string, rating_area_id: string, age: string, rate: double]]"
      ]
     },
     "execution_count": 28,
     "metadata": {},
     "output_type": "execute_result"
    }
   ],
   "source": [
    "rates_dfs = [rates_csv_reader.csv_to_df(pth) for pth in rates_csv_pths]\n",
    "rates_dfs"
   ]
  },
  {
   "cell_type": "code",
   "execution_count": 0,
   "metadata": {
    "application/vnd.databricks.v1+cell": {
     "cellMetadata": {
      "byteLimit": 2048000,
      "rowLimit": 10000
     },
     "inputWidgets": {},
     "nuid": "28c19b10-0da1-454f-8bd9-aa0970877c2e",
     "showTitle": false,
     "tableResultSettingsMap": {},
     "title": ""
    }
   },
   "outputs": [
    {
     "output_type": "execute_result",
     "data": {
      "text/plain": [
       "DataFrame[business_year: int, state_code: string, plan_id: string, rating_area_id: string, age: string, rate: double]"
      ]
     },
     "execution_count": 29,
     "metadata": {},
     "output_type": "execute_result"
    }
   ],
   "source": [
    "rates_df = reduce(DataFrame.unionByName, rates_dfs)\n",
    "rates_df"
   ]
  },
  {
   "cell_type": "code",
   "execution_count": 0,
   "metadata": {
    "application/vnd.databricks.v1+cell": {
     "cellMetadata": {
      "byteLimit": 2048000,
      "rowLimit": 10000
     },
     "inputWidgets": {},
     "nuid": "864bfd5f-e636-4a81-a4fa-1c32380b40a8",
     "showTitle": false,
     "tableResultSettingsMap": {},
     "title": ""
    }
   },
   "outputs": [],
   "source": [
    "# Add date_ingested column with the current date and time\n",
    "rates_df = rates_df.withColumn(\"date_ingested\", current_timestamp())\n",
    "\n",
    "# Save the DataFrame as a Delta table to the external location\n",
    "rates_df.write.format(\"delta\").mode(\"overwrite\").save(bronze_paths[table])\n"
   ]
  },
  {
   "cell_type": "code",
   "execution_count": 0,
   "metadata": {
    "application/vnd.databricks.v1+cell": {
     "cellMetadata": {
      "byteLimit": 2048000,
      "rowLimit": 10000
     },
     "inputWidgets": {},
     "nuid": "ffd04584-9cc5-49d5-a64e-67769a655ee1",
     "showTitle": false,
     "tableResultSettingsMap": {},
     "title": ""
    }
   },
   "outputs": [],
   "source": []
  }
 ],
 "metadata": {
  "application/vnd.databricks.v1+notebook": {
   "computePreferences": null,
   "dashboards": [],
   "environmentMetadata": {
    "base_environment": "",
    "environment_version": "2"
   },
   "language": "python",
   "notebookMetadata": {
    "pythonIndentUnit": 4
   },
   "notebookName": "rates_bronze",
   "widgets": {
    "env": {
     "currentValue": "dev",
     "nuid": "2ab64b93-e8f2-4511-bc5f-a00a971739df",
     "typedWidgetInfo": {
      "autoCreated": false,
      "defaultValue": "",
      "label": "Enter environment",
      "name": "env",
      "options": {
       "widgetDisplayType": "Text",
       "validationRegex": null
      },
      "parameterDataType": "String"
     },
     "widgetInfo": {
      "widgetType": "text",
      "defaultValue": "",
      "label": "Enter environment",
      "name": "env",
      "options": {
       "widgetType": "text",
       "autoCreated": null,
       "validationRegex": null
      }
     }
    }
   }
  },
  "language_info": {
   "name": "python"
  }
 },
 "nbformat": 4,
 "nbformat_minor": 0
}