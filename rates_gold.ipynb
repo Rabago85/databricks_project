{
 "cells": [
  {
   "cell_type": "code",
   "execution_count": 0,
   "metadata": {
    "application/vnd.databricks.v1+cell": {
     "cellMetadata": {
      "byteLimit": 2048000,
      "rowLimit": 10000
     },
     "inputWidgets": {},
     "nuid": "f1589bb2-30ae-4ac3-b7e7-3c928f2cf31f",
     "showTitle": false,
     "tableResultSettingsMap": {},
     "title": ""
    }
   },
   "outputs": [
    {
     "output_type": "execute_result",
     "data": {
      "text/plain": [
       "'dev'"
      ]
     },
     "execution_count": 20,
     "metadata": {},
     "output_type": "execute_result"
    }
   ],
   "source": [
    "dbutils.widgets.text(name=\"env\", defaultValue=\"\", label=\"Enter environment\")\n",
    "env = dbutils.widgets.get(\"env\")\n",
    "env"
   ]
  },
  {
   "cell_type": "code",
   "execution_count": 0,
   "metadata": {
    "application/vnd.databricks.v1+cell": {
     "cellMetadata": {
      "byteLimit": 2048000,
      "rowLimit": 10000
     },
     "inputWidgets": {},
     "nuid": "7c83e35e-3e78-481e-acad-fb54c7ba80ef",
     "showTitle": false,
     "tableResultSettingsMap": {},
     "title": ""
    }
   },
   "outputs": [],
   "source": [
    "import pyspark.sql.functions as F\n",
    "from pyspark.sql.types import IntegerType"
   ]
  },
  {
   "cell_type": "code",
   "execution_count": 0,
   "metadata": {
    "application/vnd.databricks.v1+cell": {
     "cellMetadata": {
      "byteLimit": 2048000,
      "rowLimit": 10000
     },
     "inputWidgets": {},
     "nuid": "5b998761-9a74-4f3f-83c9-00ee24e7710d",
     "showTitle": false,
     "tableResultSettingsMap": {},
     "title": ""
    }
   },
   "outputs": [
    {
     "output_type": "execute_result",
     "data": {
      "text/plain": [
       "('abfss://landing@dlsunitycat.dfs.core.windows.net/',\n",
       " 'abfss://medallion@dlsunitycat.dfs.core.windows.net/bronze',\n",
       " 'abfss://medallion@dlsunitycat.dfs.core.windows.net/silver',\n",
       " 'abfss://medallion@dlsunitycat.dfs.core.windows.net/gold')"
      ]
     },
     "execution_count": 4,
     "metadata": {},
     "output_type": "execute_result"
    }
   ],
   "source": [
    "%run \"./paths\""
   ]
  },
  {
   "cell_type": "code",
   "execution_count": 0,
   "metadata": {
    "application/vnd.databricks.v1+cell": {
     "cellMetadata": {
      "byteLimit": 2048000,
      "rowLimit": 10000
     },
     "inputWidgets": {},
     "nuid": "daf4777d-81f1-49a0-88ae-44217c6d4513",
     "showTitle": false,
     "tableResultSettingsMap": {},
     "title": ""
    }
   },
   "outputs": [
    {
     "output_type": "execute_result",
     "data": {
      "text/plain": [
       "('dev_catalog.silver.rates_silver',\n",
       " 'dev_catalog.gold.rates_fact',\n",
       " 'abfss://medallion@dlsunitycat.dfs.core.windows.net/gold/rates_fact')"
      ]
     },
     "execution_count": 11,
     "metadata": {},
     "output_type": "execute_result"
    }
   ],
   "source": [
    "catalog = f'{env}_catalog'\n",
    "upstream_table = f'{catalog}{silver_tables[\"rates\"]}'\n",
    "downstream_table = f'{catalog}{gold_tables[\"rates_fact\"]}'\n",
    "downstream_path = gold_paths['rates_fact']\n",
    "upstream_table, downstream_table, downstream_path"
   ]
  },
  {
   "cell_type": "code",
   "execution_count": 0,
   "metadata": {
    "application/vnd.databricks.v1+cell": {
     "cellMetadata": {
      "byteLimit": 2048000,
      "rowLimit": 10000
     },
     "inputWidgets": {},
     "nuid": "47cfbb5c-ef8e-4a39-a2f2-9e7219e9610e",
     "showTitle": false,
     "tableResultSettingsMap": {},
     "title": ""
    }
   },
   "outputs": [],
   "source": [
    "def cululative_query(upstream_table, downstream_table, downstream_path, year):\n",
    "    query = f\"\"\"\n",
    "insert into delta.`{downstream_path}`\n",
    "with last_year as (\n",
    "  select * \n",
    "  from {downstream_table}\n",
    "  where current_year = {year - 1}\n",
    "),\n",
    "this_year_raw as (\n",
    "  select \n",
    "    plan_id, \n",
    "    state_code, \n",
    "    age_category,\n",
    "    business_year,\n",
    "    cast(avg(rate) as DECIMAL(10,2)) rate\n",
    "  from {upstream_table}\n",
    "  where business_year = {year}\n",
    "  group by plan_id, state_code, age_category, business_year\n",
    "),\n",
    "this_year_pivoted AS (\n",
    "    SELECT \n",
    "        plan_id,\n",
    "        state_code,\n",
    "        business_year,\n",
    "        MAX(CASE WHEN age_category = '0 - 19' THEN rate END) age_0_19,\n",
    "        MAX(CASE WHEN age_category = '20 - 29' THEN rate END) age_20_29,\n",
    "        MAX(CASE WHEN age_category = '30 - 39' THEN rate END) age_30_39,\n",
    "        MAX(CASE WHEN age_category = '40 - 49' THEN rate END) age_40_49,\n",
    "        MAX(CASE WHEN age_category = '50 - 59' THEN rate END) age_50_59,\n",
    "        MAX(CASE WHEN age_category = '60+' THEN rate END) age_60_plus\n",
    "    FROM this_year_raw\n",
    "    GROUP BY plan_id, state_code, business_year\n",
    "),\n",
    "this_year as (\n",
    "select \n",
    "  plan_id,\n",
    "  state_code,\n",
    "  business_year,\n",
    "  ARRAY(\n",
    "    NAMED_STRUCT(\n",
    "      'age_0_19', age_0_19,\n",
    "      'age_20_29', age_20_29,\n",
    "      'age_30_39', age_30_39,\n",
    "      'age_40_49', age_40_49,\n",
    "      'age_50_59', age_50_59,\n",
    "      'age_60_plus', age_60_plus,\n",
    "      'business_year', business_year\n",
    "      )\n",
    "    ) age_category_and_year\n",
    "FROM this_year_pivoted\n",
    ")\n",
    "select \n",
    "  coalesce(ly.plan_id, ty.plan_id) plan_id,\n",
    "  coalesce(ly.state_code, ty.state_code) state_code,\n",
    "  coalesce(ty.business_year, ly.current_year + 1) current_year,\n",
    "  case\n",
    "    WHEN ly.age_category_and_year IS NULL THEN ty.age_category_and_year\n",
    "    WHEN ty.age_category_and_year IS NULL THEN ly.age_category_and_year\n",
    "    ELSE ly.age_category_and_year || ty.age_category_and_year\n",
    "  END age_category_and_year,\n",
    "  CURRENT_TIMESTAMP() AS date_ingested\n",
    "from last_year ly\n",
    "full outer join this_year ty on ly.plan_id = ty.plan_id\n",
    "\"\"\"\n",
    "    spark.sql(query)"
   ]
  },
  {
   "cell_type": "code",
   "execution_count": 0,
   "metadata": {
    "application/vnd.databricks.v1+cell": {
     "cellMetadata": {
      "byteLimit": 2048000,
      "rowLimit": 10000
     },
     "inputWidgets": {},
     "nuid": "89388ac2-324b-4beb-9047-499e1cf6a629",
     "showTitle": false,
     "tableResultSettingsMap": {},
     "title": ""
    }
   },
   "outputs": [],
   "source": [
    "for year in range(2018, 2025):\n",
    "    cululative_query(upstream_table, downstream_table, downstream_path, year)"
   ]
  }
 ],
 "metadata": {
  "application/vnd.databricks.v1+notebook": {
   "computePreferences": null,
   "dashboards": [],
   "environmentMetadata": {
    "base_environment": "",
    "environment_version": "2"
   },
   "language": "python",
   "notebookMetadata": {
    "pythonIndentUnit": 4
   },
   "notebookName": "rates_gold",
   "widgets": {
    "env": {
     "currentValue": "dev",
     "nuid": "5e4c4f95-9622-467b-b0f5-6ec9dc1ab25d",
     "typedWidgetInfo": {
      "autoCreated": false,
      "defaultValue": "",
      "label": "Enter environment",
      "name": "env",
      "options": {
       "widgetDisplayType": "Text",
       "validationRegex": null
      },
      "parameterDataType": "String"
     },
     "widgetInfo": {
      "widgetType": "text",
      "defaultValue": "",
      "label": "Enter environment",
      "name": "env",
      "options": {
       "widgetType": "text",
       "autoCreated": null,
       "validationRegex": null
      }
     }
    }
   }
  },
  "language_info": {
   "name": "python"
  }
 },
 "nbformat": 4,
 "nbformat_minor": 0
}