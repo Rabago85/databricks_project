{
 "cells": [
  {
   "cell_type": "code",
   "execution_count": 0,
   "metadata": {
    "application/vnd.databricks.v1+cell": {
     "cellMetadata": {
      "byteLimit": 2048000,
      "rowLimit": 10000
     },
     "inputWidgets": {},
     "nuid": "94de9d83-9b05-4a6c-b427-fcfe02bfed60",
     "showTitle": false,
     "tableResultSettingsMap": {},
     "title": ""
    }
   },
   "outputs": [
    {
     "output_type": "execute_result",
     "data": {
      "text/plain": [
       "'dev'"
      ]
     },
     "execution_count": 28,
     "metadata": {},
     "output_type": "execute_result"
    }
   ],
   "source": [
    "dbutils.widgets.text(name=\"env\", defaultValue=\"\", label=\"Enter environment\")\n",
    "env = dbutils.widgets.get(\"env\")\n",
    "env"
   ]
  },
  {
   "cell_type": "code",
   "execution_count": 0,
   "metadata": {
    "application/vnd.databricks.v1+cell": {
     "cellMetadata": {
      "byteLimit": 2048000,
      "rowLimit": 10000
     },
     "inputWidgets": {},
     "nuid": "3ebdb2d9-a685-4e22-b1b0-e8d9ebfe2186",
     "showTitle": false,
     "tableResultSettingsMap": {},
     "title": ""
    }
   },
   "outputs": [],
   "source": [
    "from pyspark.sql import DataFrame\n",
    "from functools import reduce\n",
    "from dataclasses import dataclass\n",
    "from pyspark.sql.types import IntegerType, StringType\n",
    "from pyspark.sql.functions import current_timestamp\n"
   ]
  },
  {
   "cell_type": "code",
   "execution_count": 0,
   "metadata": {
    "application/vnd.databricks.v1+cell": {
     "cellMetadata": {
      "byteLimit": 2048000,
      "rowLimit": 10000
     },
     "inputWidgets": {},
     "nuid": "4a873bb1-ad0c-4109-997e-139de1a42bb2",
     "showTitle": false,
     "tableResultSettingsMap": {},
     "title": ""
    }
   },
   "outputs": [
    {
     "output_type": "stream",
     "name": "stdout",
     "output_type": "stream",
     "text": [
      "End\n"
     ]
    }
   ],
   "source": [
    "%run \"./include\""
   ]
  },
  {
   "cell_type": "code",
   "execution_count": 0,
   "metadata": {
    "application/vnd.databricks.v1+cell": {
     "cellMetadata": {
      "byteLimit": 2048000,
      "rowLimit": 10000
     },
     "inputWidgets": {},
     "nuid": "16a9e360-166d-4de6-bd96-f8b91ed34720",
     "showTitle": false,
     "tableResultSettingsMap": {},
     "title": ""
    }
   },
   "outputs": [
    {
     "output_type": "execute_result",
     "data": {
      "text/plain": [
       "('abfss://landing@dlsunitycat.dfs.core.windows.net/',\n",
       " 'abfss://medallion@dlsunitycat.dfs.core.windows.net/bronze',\n",
       " 'abfss://medallion@dlsunitycat.dfs.core.windows.net/silver',\n",
       " 'abfss://medallion@dlsunitycat.dfs.core.windows.net/gold')"
      ]
     },
     "execution_count": 34,
     "metadata": {},
     "output_type": "execute_result"
    }
   ],
   "source": [
    "%run \"./paths\""
   ]
  },
  {
   "cell_type": "code",
   "execution_count": 0,
   "metadata": {
    "application/vnd.databricks.v1+cell": {
     "cellMetadata": {
      "byteLimit": 2048000,
      "rowLimit": 10000
     },
     "inputWidgets": {},
     "nuid": "5437eede-8db8-4b46-b2d6-de7aeb4bcd6a",
     "showTitle": false,
     "tableResultSettingsMap": {},
     "title": ""
    }
   },
   "outputs": [],
   "source": [
    "columns_to_rename = {\"BusinessYear\": \"business_year\",\n",
    "                     \"StateCode\": \"state_code\",\n",
    "                     \"DentalOnlyPlan\": \"dental_only_plan\",\n",
    "                     \"StandardComponentId\": \"plan_id\",\n",
    "                     \"MetalLevel\": \"metal_level\",      \n",
    "                     \"IsNewPlan\": \"new_plan\",\n",
    "                     \"PlanType\": \"plan_type\"}\n",
    "\n",
    "@SchemaDefiner.get_pyspark_schema\n",
    "@dataclass\n",
    "class Write_Schema:\n",
    "    business_year: IntegerType\n",
    "    state_code: StringType\n",
    "    dental_only_plan: StringType\n",
    "    plan_id: StringType\n",
    "    metal_level: StringType\n",
    "    new_plan: StringType\n",
    "    plan_type: StringType\n",
    "\n",
    "write_schema = Write_Schema()"
   ]
  },
  {
   "cell_type": "code",
   "execution_count": 0,
   "metadata": {
    "application/vnd.databricks.v1+cell": {
     "cellMetadata": {
      "byteLimit": 2048000,
      "rowLimit": 10000
     },
     "inputWidgets": {},
     "nuid": "db9389dc-02da-4dd5-b72f-89ea553f43c0",
     "showTitle": false,
     "tableResultSettingsMap": {},
     "title": ""
    }
   },
   "outputs": [],
   "source": [
    "plans_csv_reader = csv_reader(columns_to_rename, write_schema)"
   ]
  },
  {
   "cell_type": "code",
   "execution_count": 0,
   "metadata": {
    "application/vnd.databricks.v1+cell": {
     "cellMetadata": {
      "byteLimit": 2048000,
      "rowLimit": 10000
     },
     "inputWidgets": {},
     "nuid": "f9090373-6b3e-46fc-9538-7b1286246cb4",
     "showTitle": false,
     "tableResultSettingsMap": {},
     "title": ""
    }
   },
   "outputs": [
    {
     "output_type": "execute_result",
     "data": {
      "text/plain": [
       "['abfss://landing@dlsunitycat.dfs.core.windows.net/raw_plans/2018_plans.csv',\n",
       " 'abfss://landing@dlsunitycat.dfs.core.windows.net/raw_plans/2019_plans.csv',\n",
       " 'abfss://landing@dlsunitycat.dfs.core.windows.net/raw_plans/2020_plans.csv',\n",
       " 'abfss://landing@dlsunitycat.dfs.core.windows.net/raw_plans/2021_plans.csv',\n",
       " 'abfss://landing@dlsunitycat.dfs.core.windows.net/raw_plans/2022_plans.csv',\n",
       " 'abfss://landing@dlsunitycat.dfs.core.windows.net/raw_plans/2023_plans.csv',\n",
       " 'abfss://landing@dlsunitycat.dfs.core.windows.net/raw_plans/2024_plans.csv']"
      ]
     },
     "execution_count": 39,
     "metadata": {},
     "output_type": "execute_result"
    }
   ],
   "source": [
    "table = 'plans'\n",
    "raw_plans_files = dbutils.fs.ls(raw_paths[table])\n",
    "plans_csv_pths = [file.path for file in raw_plans_files]\n",
    "plans_csv_pths"
   ]
  },
  {
   "cell_type": "code",
   "execution_count": 0,
   "metadata": {
    "application/vnd.databricks.v1+cell": {
     "cellMetadata": {
      "byteLimit": 2048000,
      "rowLimit": 10000
     },
     "inputWidgets": {},
     "nuid": "3d0f6c1f-c20c-403f-902b-0a8ae0e4b65f",
     "showTitle": false,
     "tableResultSettingsMap": {},
     "title": ""
    }
   },
   "outputs": [
    {
     "output_type": "execute_result",
     "data": {
      "text/plain": [
       "[DataFrame[business_year: int, state_code: string, dental_only_plan: string, plan_id: string, metal_level: string, new_plan: string, plan_type: string],\n",
       " DataFrame[business_year: int, state_code: string, dental_only_plan: string, plan_id: string, metal_level: string, new_plan: string, plan_type: string],\n",
       " DataFrame[business_year: int, state_code: string, dental_only_plan: string, plan_id: string, metal_level: string, new_plan: string, plan_type: string],\n",
       " DataFrame[business_year: int, state_code: string, dental_only_plan: string, plan_id: string, metal_level: string, new_plan: string, plan_type: string],\n",
       " DataFrame[business_year: int, state_code: string, dental_only_plan: string, plan_id: string, metal_level: string, new_plan: string, plan_type: string],\n",
       " DataFrame[business_year: int, state_code: string, dental_only_plan: string, plan_id: string, metal_level: string, new_plan: string, plan_type: string],\n",
       " DataFrame[business_year: int, state_code: string, dental_only_plan: string, plan_id: string, metal_level: string, new_plan: string, plan_type: string]]"
      ]
     },
     "execution_count": 40,
     "metadata": {},
     "output_type": "execute_result"
    }
   ],
   "source": [
    "plans_dfs = [plans_csv_reader.csv_to_df(pth) for pth in plans_csv_pths]\n",
    "plans_dfs"
   ]
  },
  {
   "cell_type": "code",
   "execution_count": 0,
   "metadata": {
    "application/vnd.databricks.v1+cell": {
     "cellMetadata": {
      "byteLimit": 2048000,
      "rowLimit": 10000
     },
     "inputWidgets": {},
     "nuid": "29688091-ac98-4e31-b4af-b5808cdc6735",
     "showTitle": false,
     "tableResultSettingsMap": {},
     "title": ""
    }
   },
   "outputs": [
    {
     "output_type": "execute_result",
     "data": {
      "text/plain": [
       "DataFrame[business_year: int, state_code: string, dental_only_plan: string, plan_id: string, metal_level: string, new_plan: string, plan_type: string]"
      ]
     },
     "execution_count": 41,
     "metadata": {},
     "output_type": "execute_result"
    }
   ],
   "source": [
    "plans_df = reduce(DataFrame.unionByName, plans_dfs)\n",
    "plans_df"
   ]
  },
  {
   "cell_type": "code",
   "execution_count": 0,
   "metadata": {
    "application/vnd.databricks.v1+cell": {
     "cellMetadata": {
      "byteLimit": 2048000,
      "rowLimit": 10000
     },
     "inputWidgets": {},
     "nuid": "2ad4ad25-0c1a-48bc-9804-73c84329cf25",
     "showTitle": false,
     "tableResultSettingsMap": {},
     "title": ""
    }
   },
   "outputs": [],
   "source": [
    "plans_df = plans_df.withColumn(\"date_ingested\", current_timestamp())\n",
    "\n",
    "plans_df.write.format(\"delta\").mode(\"overwrite\").save(bronze_paths[table])\n"
   ]
  }
 ],
 "metadata": {
  "application/vnd.databricks.v1+notebook": {
   "computePreferences": null,
   "dashboards": [],
   "environmentMetadata": {
    "base_environment": "",
    "environment_version": "2"
   },
   "language": "python",
   "notebookMetadata": {
    "pythonIndentUnit": 4
   },
   "notebookName": "plans_bronze",
   "widgets": {
    "env": {
     "currentValue": "dev",
     "nuid": "e7e5b70e-6e39-4218-a86d-ac6b85b71ef1",
     "typedWidgetInfo": {
      "autoCreated": false,
      "defaultValue": "",
      "label": "Enter environment",
      "name": "env",
      "options": {
       "widgetDisplayType": "Text",
       "validationRegex": null
      },
      "parameterDataType": "String"
     },
     "widgetInfo": {
      "widgetType": "text",
      "defaultValue": "",
      "label": "Enter environment",
      "name": "env",
      "options": {
       "widgetType": "text",
       "autoCreated": null,
       "validationRegex": null
      }
     }
    }
   }
  },
  "language_info": {
   "name": "python"
  }
 },
 "nbformat": 4,
 "nbformat_minor": 0
}