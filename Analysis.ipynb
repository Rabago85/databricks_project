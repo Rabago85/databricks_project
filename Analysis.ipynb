{
 "cells": [
  {
   "cell_type": "code",
   "execution_count": 0,
   "metadata": {
    "application/vnd.databricks.v1+cell": {
     "cellMetadata": {
      "byteLimit": 2048000,
      "rowLimit": 10000
     },
     "inputWidgets": {},
     "nuid": "f98c5ec2-583c-4bcc-94a4-d52043056160",
     "showTitle": false,
     "tableResultSettingsMap": {},
     "title": ""
    }
   },
   "outputs": [
    {
     "output_type": "display_data",
     "data": {
      "text/html": [
       "<style scoped>\n",
       "  .table-result-container {\n",
       "    max-height: 300px;\n",
       "    overflow: auto;\n",
       "  }\n",
       "  table, th, td {\n",
       "    border: 1px solid black;\n",
       "    border-collapse: collapse;\n",
       "  }\n",
       "  th, td {\n",
       "    padding: 5px;\n",
       "  }\n",
       "  th {\n",
       "    text-align: left;\n",
       "  }\n",
       "</style><div class='table-result-container'><table class='table-result'><thead style='background-color: white'><tr><th>state_code</th><th>business_year</th><th>fairness_index</th></tr></thead><tbody><tr><td>TX</td><td>2018</td><td>13.42765273282</td></tr><tr><td>FL</td><td>2018</td><td>22.98182143870</td></tr><tr><td>IN</td><td>2018</td><td>24.27080333034</td></tr><tr><td>MI</td><td>2018</td><td>24.48783597682</td></tr><tr><td>OH</td><td>2018</td><td>25.53024790746</td></tr><tr><td>PA</td><td>2018</td><td>26.03513254167</td></tr><tr><td>NJ</td><td>2018</td><td>26.74820004920</td></tr><tr><td>GA</td><td>2018</td><td>31.78649749636</td></tr><tr><td>IL</td><td>2018</td><td>33.77580191405</td></tr><tr><td>NC</td><td>2018</td><td>38.02664552510</td></tr><tr><td>DE</td><td>2018</td><td>203.65710076424</td></tr><tr><td>NM</td><td>2018</td><td>207.22893051625</td></tr><tr><td>HI</td><td>2018</td><td>209.36901700552</td></tr><tr><td>NH</td><td>2018</td><td>259.98007186876</td></tr><tr><td>ME</td><td>2018</td><td>288.49625416807</td></tr><tr><td>WV</td><td>2018</td><td>313.65984087028</td></tr><tr><td>WY</td><td>2018</td><td>368.35205681097</td></tr><tr><td>SD</td><td>2018</td><td>390.84277943004</td></tr><tr><td>MT</td><td>2018</td><td>417.69154807298</td></tr><tr><td>AK</td><td>2018</td><td>567.94744544708</td></tr><tr><td>TX</td><td>2019</td><td>12.08654183641</td></tr><tr><td>IN</td><td>2019</td><td>18.83131391199</td></tr><tr><td>FL</td><td>2019</td><td>22.67772111320</td></tr><tr><td>MI</td><td>2019</td><td>23.67815520496</td></tr><tr><td>NJ</td><td>2019</td><td>24.51202061360</td></tr><tr><td>OH</td><td>2019</td><td>25.36954587923</td></tr><tr><td>PA</td><td>2019</td><td>29.39584691217</td></tr><tr><td>IL</td><td>2019</td><td>31.37997519669</td></tr><tr><td>NC</td><td>2019</td><td>38.77252884130</td></tr><tr><td>GA</td><td>2019</td><td>41.45275193529</td></tr><tr><td>HI</td><td>2019</td><td>203.68619620142</td></tr><tr><td>NH</td><td>2019</td><td>218.51879520174</td></tr><tr><td>DE</td><td>2019</td><td>244.85295079823</td></tr><tr><td>ND</td><td>2019</td><td>261.37458851422</td></tr><tr><td>ME</td><td>2019</td><td>343.82780393292</td></tr><tr><td>SD</td><td>2019</td><td>350.99946705531</td></tr><tr><td>WY</td><td>2019</td><td>351.39980726034</td></tr><tr><td>WV</td><td>2019</td><td>368.92882258260</td></tr><tr><td>MT</td><td>2019</td><td>412.94461410459</td></tr><tr><td>AK</td><td>2019</td><td>578.56766550829</td></tr><tr><td>TX</td><td>2020</td><td>12.22937790502</td></tr><tr><td>FL</td><td>2020</td><td>21.05448404041</td></tr><tr><td>MI</td><td>2020</td><td>24.76907017880</td></tr><tr><td>IN</td><td>2020</td><td>26.79514796197</td></tr><tr><td>OH</td><td>2020</td><td>27.38308423026</td></tr><tr><td>PA</td><td>2020</td><td>30.02075063091</td></tr><tr><td>IL</td><td>2020</td><td>30.23625623393</td></tr><tr><td>NJ</td><td>2020</td><td>32.11723043586</td></tr><tr><td>NC</td><td>2020</td><td>36.17566339729</td></tr><tr><td>VA</td><td>2020</td><td>37.71965089704</td></tr><tr><td>NH</td><td>2020</td><td>183.25166920592</td></tr><tr><td>NM</td><td>2020</td><td>185.09109239988</td></tr><tr><td>DE</td><td>2020</td><td>204.44061712368</td></tr><tr><td>ND</td><td>2020</td><td>268.54890976205</td></tr><tr><td>ME</td><td>2020</td><td>319.53162310771</td></tr><tr><td>AK</td><td>2020</td><td>367.66652476846</td></tr><tr><td>MT</td><td>2020</td><td>386.80880502911</td></tr><tr><td>WV</td><td>2020</td><td>394.23201683829</td></tr><tr><td>SD</td><td>2020</td><td>405.49459914901</td></tr><tr><td>WY</td><td>2020</td><td>453.06098241808</td></tr><tr><td>TX</td><td>2021</td><td>12.06156011308</td></tr><tr><td>FL</td><td>2021</td><td>20.44779612357</td></tr><tr><td>MI</td><td>2021</td><td>25.75588712180</td></tr><tr><td>OH</td><td>2021</td><td>27.59545046341</td></tr><tr><td>IL</td><td>2021</td><td>29.34122346445</td></tr><tr><td>IN</td><td>2021</td><td>32.50884544832</td></tr><tr><td>GA</td><td>2021</td><td>35.18220770358</td></tr><tr><td>VA</td><td>2021</td><td>35.93859716244</td></tr><tr><td>NC</td><td>2021</td><td>38.84432621026</td></tr><tr><td>AL</td><td>2021</td><td>53.26658935106</td></tr><tr><td>HI</td><td>2021</td><td>172.11512986588</td></tr><tr><td>NH</td><td>2021</td><td>223.56981747920</td></tr><tr><td>DE</td><td>2021</td><td>243.31692647011</td></tr><tr><td>ND</td><td>2021</td><td>276.46475517097</td></tr><tr><td>ME</td><td>2021</td><td>300.35225659510</td></tr><tr><td>AK</td><td>2021</td><td>336.29919296476</td></tr><tr><td>MT</td><td>2021</td><td>382.27282812501</td></tr><tr><td>SD</td><td>2021</td><td>390.15379587828</td></tr><tr><td>WV</td><td>2021</td><td>454.29414048777</td></tr><tr><td>WY</td><td>2021</td><td>520.08499845357</td></tr><tr><td>TX</td><td>2022</td><td>11.32657381305</td></tr><tr><td>FL</td><td>2022</td><td>19.59243635536</td></tr><tr><td>IL</td><td>2022</td><td>27.31350875301</td></tr><tr><td>MI</td><td>2022</td><td>27.50861305533</td></tr><tr><td>OH</td><td>2022</td><td>28.49223894440</td></tr><tr><td>GA</td><td>2022</td><td>29.25197642851</td></tr><tr><td>IN</td><td>2022</td><td>33.74692426596</td></tr><tr><td>VA</td><td>2022</td><td>36.34372611302</td></tr><tr><td>NC</td><td>2022</td><td>41.29068574949</td></tr><tr><td>AZ</td><td>2022</td><td>58.77671354682</td></tr><tr><td>MS</td><td>2022</td><td>158.34538203054</td></tr><tr><td>AK</td><td>2022</td><td>162.96057817311</td></tr><tr><td>NE</td><td>2022</td><td>196.77792338451</td></tr><tr><td>NH</td><td>2022</td><td>225.70090217289</td></tr><tr><td>DE</td><td>2022</td><td>239.36728167292</td></tr><tr><td>ND</td><td>2022</td><td>256.65565664103</td></tr><tr><td>MT</td><td>2022</td><td>321.65459378960</td></tr><tr><td>SD</td><td>2022</td><td>375.21565760337</td></tr><tr><td>WV</td><td>2022</td><td>456.67475414665</td></tr><tr><td>WY</td><td>2022</td><td>500.36165432331</td></tr><tr><td>TX</td><td>2023</td><td>10.87395598355</td></tr><tr><td>FL</td><td>2023</td><td>19.94033818539</td></tr><tr><td>OH</td><td>2023</td><td>27.60575997017</td></tr><tr><td>MI</td><td>2023</td><td>28.05504723307</td></tr><tr><td>IL</td><td>2023</td><td>28.27319290732</td></tr><tr><td>VA</td><td>2023</td><td>28.53696010347</td></tr><tr><td>GA</td><td>2023</td><td>31.07266347145</td></tr><tr><td>IN</td><td>2023</td><td>37.15518475390</td></tr><tr><td>NC</td><td>2023</td><td>39.03031405597</td></tr><tr><td>TN</td><td>2023</td><td>59.27525059310</td></tr><tr><td>MS</td><td>2023</td><td>172.10899251749</td></tr><tr><td>NE</td><td>2023</td><td>182.40169440360</td></tr><tr><td>NH</td><td>2023</td><td>214.97922085565</td></tr><tr><td>DE</td><td>2023</td><td>270.40760163467</td></tr><tr><td>ND</td><td>2023</td><td>301.69741006549</td></tr><tr><td>MT</td><td>2023</td><td>337.99220117203</td></tr><tr><td>AK</td><td>2023</td><td>417.70355950777</td></tr><tr><td>WV</td><td>2023</td><td>449.37897309084</td></tr><tr><td>SD</td><td>2023</td><td>454.48416659731</td></tr><tr><td>WY</td><td>2023</td><td>520.88398234192</td></tr><tr><td>TX</td><td>2024</td><td>11.00162071913</td></tr><tr><td>FL</td><td>2024</td><td>20.11940753053</td></tr><tr><td>OH</td><td>2024</td><td>24.93896367523</td></tr><tr><td>MI</td><td>2024</td><td>26.60298980747</td></tr><tr><td>IL</td><td>2024</td><td>29.63456451465</td></tr><tr><td>GA</td><td>2024</td><td>33.68709745850</td></tr><tr><td>NC</td><td>2024</td><td>35.66340072077</td></tr><tr><td>IN</td><td>2024</td><td>37.07012289071</td></tr><tr><td>AZ</td><td>2024</td><td>57.32117754045</td></tr><tr><td>TN</td><td>2024</td><td>59.11400866175</td></tr><tr><td>MS</td><td>2024</td><td>167.05756601933</td></tr><tr><td>NE</td><td>2024</td><td>185.00924873449</td></tr><tr><td>NH</td><td>2024</td><td>235.67573492891</td></tr><tr><td>DE</td><td>2024</td><td>302.55489059163</td></tr><tr><td>ND</td><td>2024</td><td>320.37530580217</td></tr><tr><td>MT</td><td>2024</td><td>349.23418044624</td></tr><tr><td>WV</td><td>2024</td><td>476.02399664424</td></tr><tr><td>AK</td><td>2024</td><td>480.97687727663</td></tr><tr><td>SD</td><td>2024</td><td>487.33960983778</td></tr><tr><td>WY</td><td>2024</td><td>522.14816023108</td></tr></tbody></table></div>"
      ]
     },
     "metadata": {
      "application/vnd.databricks.v1+output": {
       "addedWidgets": {},
       "aggData": [],
       "aggError": "",
       "aggOverflow": false,
       "aggSchema": [],
       "aggSeriesLimitReached": false,
       "aggType": "",
       "arguments": {},
       "columnCustomDisplayInfos": {},
       "data": [
        [
         "TX",
         2018,
         "13.42765273282"
        ],
        [
         "FL",
         2018,
         "22.98182143870"
        ],
        [
         "IN",
         2018,
         "24.27080333034"
        ],
        [
         "MI",
         2018,
         "24.48783597682"
        ],
        [
         "OH",
         2018,
         "25.53024790746"
        ],
        [
         "PA",
         2018,
         "26.03513254167"
        ],
        [
         "NJ",
         2018,
         "26.74820004920"
        ],
        [
         "GA",
         2018,
         "31.78649749636"
        ],
        [
         "IL",
         2018,
         "33.77580191405"
        ],
        [
         "NC",
         2018,
         "38.02664552510"
        ],
        [
         "DE",
         2018,
         "203.65710076424"
        ],
        [
         "NM",
         2018,
         "207.22893051625"
        ],
        [
         "HI",
         2018,
         "209.36901700552"
        ],
        [
         "NH",
         2018,
         "259.98007186876"
        ],
        [
         "ME",
         2018,
         "288.49625416807"
        ],
        [
         "WV",
         2018,
         "313.65984087028"
        ],
        [
         "WY",
         2018,
         "368.35205681097"
        ],
        [
         "SD",
         2018,
         "390.84277943004"
        ],
        [
         "MT",
         2018,
         "417.69154807298"
        ],
        [
         "AK",
         2018,
         "567.94744544708"
        ],
        [
         "TX",
         2019,
         "12.08654183641"
        ],
        [
         "IN",
         2019,
         "18.83131391199"
        ],
        [
         "FL",
         2019,
         "22.67772111320"
        ],
        [
         "MI",
         2019,
         "23.67815520496"
        ],
        [
         "NJ",
         2019,
         "24.51202061360"
        ],
        [
         "OH",
         2019,
         "25.36954587923"
        ],
        [
         "PA",
         2019,
         "29.39584691217"
        ],
        [
         "IL",
         2019,
         "31.37997519669"
        ],
        [
         "NC",
         2019,
         "38.77252884130"
        ],
        [
         "GA",
         2019,
         "41.45275193529"
        ],
        [
         "HI",
         2019,
         "203.68619620142"
        ],
        [
         "NH",
         2019,
         "218.51879520174"
        ],
        [
         "DE",
         2019,
         "244.85295079823"
        ],
        [
         "ND",
         2019,
         "261.37458851422"
        ],
        [
         "ME",
         2019,
         "343.82780393292"
        ],
        [
         "SD",
         2019,
         "350.99946705531"
        ],
        [
         "WY",
         2019,
         "351.39980726034"
        ],
        [
         "WV",
         2019,
         "368.92882258260"
        ],
        [
         "MT",
         2019,
         "412.94461410459"
        ],
        [
         "AK",
         2019,
         "578.56766550829"
        ],
        [
         "TX",
         2020,
         "12.22937790502"
        ],
        [
         "FL",
         2020,
         "21.05448404041"
        ],
        [
         "MI",
         2020,
         "24.76907017880"
        ],
        [
         "IN",
         2020,
         "26.79514796197"
        ],
        [
         "OH",
         2020,
         "27.38308423026"
        ],
        [
         "PA",
         2020,
         "30.02075063091"
        ],
        [
         "IL",
         2020,
         "30.23625623393"
        ],
        [
         "NJ",
         2020,
         "32.11723043586"
        ],
        [
         "NC",
         2020,
         "36.17566339729"
        ],
        [
         "VA",
         2020,
         "37.71965089704"
        ],
        [
         "NH",
         2020,
         "183.25166920592"
        ],
        [
         "NM",
         2020,
         "185.09109239988"
        ],
        [
         "DE",
         2020,
         "204.44061712368"
        ],
        [
         "ND",
         2020,
         "268.54890976205"
        ],
        [
         "ME",
         2020,
         "319.53162310771"
        ],
        [
         "AK",
         2020,
         "367.66652476846"
        ],
        [
         "MT",
         2020,
         "386.80880502911"
        ],
        [
         "WV",
         2020,
         "394.23201683829"
        ],
        [
         "SD",
         2020,
         "405.49459914901"
        ],
        [
         "WY",
         2020,
         "453.06098241808"
        ],
        [
         "TX",
         2021,
         "12.06156011308"
        ],
        [
         "FL",
         2021,
         "20.44779612357"
        ],
        [
         "MI",
         2021,
         "25.75588712180"
        ],
        [
         "OH",
         2021,
         "27.59545046341"
        ],
        [
         "IL",
         2021,
         "29.34122346445"
        ],
        [
         "IN",
         2021,
         "32.50884544832"
        ],
        [
         "GA",
         2021,
         "35.18220770358"
        ],
        [
         "VA",
         2021,
         "35.93859716244"
        ],
        [
         "NC",
         2021,
         "38.84432621026"
        ],
        [
         "AL",
         2021,
         "53.26658935106"
        ],
        [
         "HI",
         2021,
         "172.11512986588"
        ],
        [
         "NH",
         2021,
         "223.56981747920"
        ],
        [
         "DE",
         2021,
         "243.31692647011"
        ],
        [
         "ND",
         2021,
         "276.46475517097"
        ],
        [
         "ME",
         2021,
         "300.35225659510"
        ],
        [
         "AK",
         2021,
         "336.29919296476"
        ],
        [
         "MT",
         2021,
         "382.27282812501"
        ],
        [
         "SD",
         2021,
         "390.15379587828"
        ],
        [
         "WV",
         2021,
         "454.29414048777"
        ],
        [
         "WY",
         2021,
         "520.08499845357"
        ],
        [
         "TX",
         2022,
         "11.32657381305"
        ],
        [
         "FL",
         2022,
         "19.59243635536"
        ],
        [
         "IL",
         2022,
         "27.31350875301"
        ],
        [
         "MI",
         2022,
         "27.50861305533"
        ],
        [
         "OH",
         2022,
         "28.49223894440"
        ],
        [
         "GA",
         2022,
         "29.25197642851"
        ],
        [
         "IN",
         2022,
         "33.74692426596"
        ],
        [
         "VA",
         2022,
         "36.34372611302"
        ],
        [
         "NC",
         2022,
         "41.29068574949"
        ],
        [
         "AZ",
         2022,
         "58.77671354682"
        ],
        [
         "MS",
         2022,
         "158.34538203054"
        ],
        [
         "AK",
         2022,
         "162.96057817311"
        ],
        [
         "NE",
         2022,
         "196.77792338451"
        ],
        [
         "NH",
         2022,
         "225.70090217289"
        ],
        [
         "DE",
         2022,
         "239.36728167292"
        ],
        [
         "ND",
         2022,
         "256.65565664103"
        ],
        [
         "MT",
         2022,
         "321.65459378960"
        ],
        [
         "SD",
         2022,
         "375.21565760337"
        ],
        [
         "WV",
         2022,
         "456.67475414665"
        ],
        [
         "WY",
         2022,
         "500.36165432331"
        ],
        [
         "TX",
         2023,
         "10.87395598355"
        ],
        [
         "FL",
         2023,
         "19.94033818539"
        ],
        [
         "OH",
         2023,
         "27.60575997017"
        ],
        [
         "MI",
         2023,
         "28.05504723307"
        ],
        [
         "IL",
         2023,
         "28.27319290732"
        ],
        [
         "VA",
         2023,
         "28.53696010347"
        ],
        [
         "GA",
         2023,
         "31.07266347145"
        ],
        [
         "IN",
         2023,
         "37.15518475390"
        ],
        [
         "NC",
         2023,
         "39.03031405597"
        ],
        [
         "TN",
         2023,
         "59.27525059310"
        ],
        [
         "MS",
         2023,
         "172.10899251749"
        ],
        [
         "NE",
         2023,
         "182.40169440360"
        ],
        [
         "NH",
         2023,
         "214.97922085565"
        ],
        [
         "DE",
         2023,
         "270.40760163467"
        ],
        [
         "ND",
         2023,
         "301.69741006549"
        ],
        [
         "MT",
         2023,
         "337.99220117203"
        ],
        [
         "AK",
         2023,
         "417.70355950777"
        ],
        [
         "WV",
         2023,
         "449.37897309084"
        ],
        [
         "SD",
         2023,
         "454.48416659731"
        ],
        [
         "WY",
         2023,
         "520.88398234192"
        ],
        [
         "TX",
         2024,
         "11.00162071913"
        ],
        [
         "FL",
         2024,
         "20.11940753053"
        ],
        [
         "OH",
         2024,
         "24.93896367523"
        ],
        [
         "MI",
         2024,
         "26.60298980747"
        ],
        [
         "IL",
         2024,
         "29.63456451465"
        ],
        [
         "GA",
         2024,
         "33.68709745850"
        ],
        [
         "NC",
         2024,
         "35.66340072077"
        ],
        [
         "IN",
         2024,
         "37.07012289071"
        ],
        [
         "AZ",
         2024,
         "57.32117754045"
        ],
        [
         "TN",
         2024,
         "59.11400866175"
        ],
        [
         "MS",
         2024,
         "167.05756601933"
        ],
        [
         "NE",
         2024,
         "185.00924873449"
        ],
        [
         "NH",
         2024,
         "235.67573492891"
        ],
        [
         "DE",
         2024,
         "302.55489059163"
        ],
        [
         "ND",
         2024,
         "320.37530580217"
        ],
        [
         "MT",
         2024,
         "349.23418044624"
        ],
        [
         "WV",
         2024,
         "476.02399664424"
        ],
        [
         "AK",
         2024,
         "480.97687727663"
        ],
        [
         "SD",
         2024,
         "487.33960983778"
        ],
        [
         "WY",
         2024,
         "522.14816023108"
        ]
       ],
       "datasetInfos": [],
       "dbfsResultPath": null,
       "isJsonSchema": true,
       "metadata": {
        "isDbfsCommandResult": false
       },
       "overflow": false,
       "plotOptions": {
        "customPlotOptions": {},
        "displayType": "table",
        "pivotAggregation": null,
        "pivotColumns": null,
        "xColumns": null,
        "yColumns": null
       },
       "removedWidgets": [],
       "schema": [
        {
         "metadata": "{}",
         "name": "state_code",
         "type": "\"string\""
        },
        {
         "metadata": "{}",
         "name": "business_year",
         "type": "\"integer\""
        },
        {
         "metadata": "{}",
         "name": "fairness_index",
         "type": "\"decimal(38,11)\""
        }
       ],
       "type": "table"
      }
     },
     "output_type": "display_data"
    },
    {
     "output_type": "display_data",
     "data": {
      "text/plain": [
       "Databricks visualization. Run in Databricks to view."
      ]
     },
     "metadata": {
      "application/vnd.databricks.v1.subcommand+json": {
       "baseErrorDetails": null,
       "bindings": {},
       "collapsed": false,
       "command": "%sql WITH q AS (WITH state_data AS (\n    SELECT \n        state_gdp.state_code,\n        state_gdp.business_year,\n        state_gdp.average_gdp AS avg_gdp_state,\n        usa_gdp.average_gdp AS avg_gdp_usa\n    FROM dev_catalog.gold.state_gdp_dim AS state_gdp\n    JOIN dev_catalog.gold.state_gdp_dim AS usa_gdp\n        ON state_gdp.business_year = usa_gdp.business_year\n        AND usa_gdp.state_code = 'USA'\n    WHERE state_gdp.state_code != 'USA'\n),\nexploded_rates AS (\n    SELECT \n        plan_id,\n        state_code,\n        age_category,\n        age_rate,\n        struct_col.business_year\n    FROM dev_catalog.gold.rates_fact\n    LATERAL VIEW EXPLODE(age_category_and_year) exploded AS struct_col\n    LATERAL VIEW EXPLODE(\n        MAP(\n            'age_0_19', struct_col.age_0_19,\n            'age_20_29', struct_col.age_20_29,\n            'age_30_39', struct_col.age_30_39,\n            'age_40_49', struct_col.age_40_49,\n            'age_50_59', struct_col.age_50_59,\n            'age_60_plus', struct_col.age_60_plus\n        )\n    ) exploded_map AS age_category, age_rate\n),\nstate_rates_agg AS (\n    SELECT\n        state_code,\n        business_year,\n        AVG(age_rate) AS avg_rate\n    FROM exploded_rates\n    GROUP BY state_code, business_year\n),\nnational_rates_agg AS (\n    SELECT\n        business_year,\n        AVG(age_rate) AS avg_rate_national\n    FROM exploded_rates\n    GROUP BY business_year\n),\nrates_agg AS (\n    SELECT \n        r.state_code,\n        r.business_year,\n        r.avg_rate,\n        n.avg_rate_national\n    FROM state_rates_agg r\n    JOIN national_rates_agg n\n        ON r.business_year = n.business_year\n),\nfairness_index_calc AS (\n    SELECT \n        r.state_code,\n        r.business_year,\n        (r.avg_rate/s.avg_gdp_state)/(r.avg_rate_national/s.avg_gdp_usa) AS fairness_index\n    FROM rates_agg r\n    JOIN state_data s \n        ON r.state_code = s.state_code \n        AND r.business_year = s.business_year\n)\nSELECT \n    state_code,\n    business_year,\n    fairness_index\nFROM (\n    SELECT \n        state_code,\n        business_year,\n        fairness_index,\n        ROW_NUMBER() OVER (PARTITION BY business_year ORDER BY fairness_index DESC) AS rank_desc,\n        ROW_NUMBER() OVER (PARTITION BY business_year ORDER BY fairness_index ASC) AS rank_asc\n    FROM fairness_index_calc\n) ranked\nWHERE rank_desc <= 10 OR rank_asc <= 10\nORDER BY business_year, fairness_index) SELECT `business_year`,`state_code`,SUM(`fairness_index`) `column_75f84e0091` FROM q GROUP BY `business_year`,`state_code`",
       "commandTitle": "Visualization 1",
       "commandType": "auto",
       "commandVersion": 0,
       "commentThread": [],
       "commentsVisible": false,
       "contentSha256Hex": null,
       "customPlotOptions": {
        "redashChart": [
         {
          "key": "type",
          "value": "CHART"
         },
         {
          "key": "options",
          "value": {
           "alignYAxesAtZero": true,
           "coefficient": 1,
           "columnConfigurationMap": {
            "x": {
             "column": "business_year",
             "id": "column_75f84e0085"
            },
            "y": [
             {
              "column": "state_code",
              "id": "column_75f84e0089"
             }
            ],
            "zVal": {
             "column": "fairness_index",
             "id": "column_75f84e0091",
             "transform": "SUM"
            }
           },
           "dateTimeFormat": "DD/MM/YYYY HH:mm",
           "direction": {
            "type": "counterclockwise"
           },
           "error_y": {
            "type": "data",
            "visible": true
           },
           "globalSeriesType": "heatmap",
           "isAggregationOn": true,
           "legend": {
            "traceorder": "normal"
           },
           "missingValuesAsZero": true,
           "numberFormat": "0,0.[00000]",
           "percentFormat": "0[.]00%",
           "series": {
            "error_y": {
             "type": "data",
             "visible": true
            },
            "stacking": null
           },
           "seriesOptions": {
            "column_75f84e0086": {
             "name": "fairness_index",
             "type": "heatmap",
             "yAxis": 0
            },
            "column_75f84e0088": {
             "type": "heatmap",
             "yAxis": 0
            },
            "column_75f84e0089": {
             "type": "heatmap",
             "yAxis": 0
            }
           },
           "showDataLabels": false,
           "sizemode": "diameter",
           "sortX": true,
           "sortY": true,
           "swappedAxes": false,
           "textFormat": "",
           "useAggregationsUi": true,
           "valuesOptions": {},
           "version": 2,
           "xAxis": {
            "labels": {
             "enabled": true
            },
            "type": "-"
           },
           "yAxis": [
            {
             "type": "-"
            },
            {
             "opposite": true,
             "type": "-"
            }
           ]
          }
         }
        ]
       },
       "datasetPreviewNameToCmdIdMap": {},
       "diffDeletes": [],
       "diffInserts": [],
       "displayType": "redashChart",
       "error": null,
       "errorDetails": null,
       "errorSummary": null,
       "errorTraceType": null,
       "finishTime": 0,
       "globalVars": {},
       "guid": "",
       "height": "528",
       "hideCommandCode": false,
       "hideCommandResult": false,
       "iPythonMetadata": null,
       "inputWidgets": {},
       "isLockedInExamMode": false,
       "latestUser": "a user",
       "latestUserId": null,
       "listResultMetadata": null,
       "metadata": {},
       "nuid": "b6a72394-9771-49cb-858d-b73943e4e72d",
       "origId": 0,
       "parentHierarchy": [],
       "pivotAggregation": null,
       "pivotColumns": null,
       "position": 4.0,
       "resultDbfsErrorMessage": null,
       "resultDbfsStatus": "INLINED_IN_TREE",
       "results": null,
       "showCommandTitle": false,
       "startTime": 0,
       "state": "input",
       "streamStates": {},
       "subcommandOptions": {
        "queryPlan": {
         "groups": [
          {
           "column": "business_year",
           "type": "column"
          },
          {
           "column": "state_code",
           "type": "column"
          }
         ],
         "selects": [
          {
           "column": "business_year",
           "type": "column"
          },
          {
           "column": "state_code",
           "type": "column"
          },
          {
           "alias": "column_75f84e0091",
           "args": [
            {
             "column": "fairness_index",
             "type": "column"
            }
           ],
           "function": "SUM",
           "type": "function"
          }
         ]
        }
       },
       "submitTime": 0,
       "subtype": "tableResultSubCmd.visualization",
       "tableResultIndex": 0,
       "tableResultSettingsMap": {},
       "useConsistentColors": false,
       "version": "CommandV1",
       "width": "1025",
       "workflows": [],
       "xColumns": null,
       "yColumns": null
      }
     },
     "output_type": "display_data"
    }
   ],
   "source": [
    "WITH state_data AS (\n",
    "    SELECT \n",
    "        state_gdp.state_code,\n",
    "        state_gdp.business_year,\n",
    "        state_gdp.average_gdp AS avg_gdp_state,\n",
    "        usa_gdp.average_gdp AS avg_gdp_usa\n",
    "    FROM dev_catalog.gold.state_gdp_dim AS state_gdp\n",
    "    JOIN dev_catalog.gold.state_gdp_dim AS usa_gdp\n",
    "        ON state_gdp.business_year = usa_gdp.business_year\n",
    "        AND usa_gdp.state_code = 'USA'\n",
    "    WHERE state_gdp.state_code != 'USA'\n",
    "),\n",
    "exploded_rates AS (\n",
    "    SELECT \n",
    "        plan_id,\n",
    "        state_code,\n",
    "        age_category,\n",
    "        age_rate,\n",
    "        struct_col.business_year\n",
    "    FROM dev_catalog.gold.rates_fact\n",
    "    LATERAL VIEW EXPLODE(age_category_and_year) exploded AS struct_col\n",
    "    LATERAL VIEW EXPLODE(\n",
    "        MAP(\n",
    "            'age_0_19', struct_col.age_0_19,\n",
    "            'age_20_29', struct_col.age_20_29,\n",
    "            'age_30_39', struct_col.age_30_39,\n",
    "            'age_40_49', struct_col.age_40_49,\n",
    "            'age_50_59', struct_col.age_50_59,\n",
    "            'age_60_plus', struct_col.age_60_plus\n",
    "        )\n",
    "    ) exploded_map AS age_category, age_rate\n",
    "),\n",
    "state_rates_agg AS (\n",
    "    SELECT\n",
    "        state_code,\n",
    "        business_year,\n",
    "        AVG(age_rate) AS avg_rate\n",
    "    FROM exploded_rates\n",
    "    GROUP BY state_code, business_year\n",
    "),\n",
    "national_rates_agg AS (\n",
    "    SELECT\n",
    "        business_year,\n",
    "        AVG(age_rate) AS avg_rate_national\n",
    "    FROM exploded_rates\n",
    "    GROUP BY business_year\n",
    "),\n",
    "rates_agg AS (\n",
    "    SELECT \n",
    "        r.state_code,\n",
    "        r.business_year,\n",
    "        r.avg_rate,\n",
    "        n.avg_rate_national\n",
    "    FROM state_rates_agg r\n",
    "    JOIN national_rates_agg n\n",
    "        ON r.business_year = n.business_year\n",
    "),\n",
    "fairness_index_calc AS (\n",
    "    SELECT \n",
    "        r.state_code,\n",
    "        r.business_year,\n",
    "        (r.avg_rate/s.avg_gdp_state)/(r.avg_rate_national/s.avg_gdp_usa) AS fairness_index\n",
    "    FROM rates_agg r\n",
    "    JOIN state_data s \n",
    "        ON r.state_code = s.state_code \n",
    "        AND r.business_year = s.business_year\n",
    ")\n",
    "SELECT \n",
    "    state_code,\n",
    "    business_year,\n",
    "    fairness_index\n",
    "FROM (\n",
    "    SELECT \n",
    "        state_code,\n",
    "        business_year,\n",
    "        fairness_index,\n",
    "        ROW_NUMBER() OVER (PARTITION BY business_year ORDER BY fairness_index DESC) AS rank_desc,\n",
    "        ROW_NUMBER() OVER (PARTITION BY business_year ORDER BY fairness_index ASC) AS rank_asc\n",
    "    FROM fairness_index_calc\n",
    ") ranked\n",
    "WHERE rank_desc <= 10 OR rank_asc <= 10\n",
    "ORDER BY business_year, fairness_index;"
   ]
  },
  {
   "cell_type": "code",
   "execution_count": 0,
   "metadata": {
    "application/vnd.databricks.v1+cell": {
     "cellMetadata": {
      "byteLimit": 2048000,
      "rowLimit": 10000
     },
     "inputWidgets": {},
     "nuid": "be844aa1-dcfb-4c21-ae9c-f3112cf7745e",
     "showTitle": false,
     "tableResultSettingsMap": {},
     "title": ""
    }
   },
   "outputs": [
    {
     "output_type": "display_data",
     "data": {
      "text/html": [
       "<style scoped>\n",
       "  .table-result-container {\n",
       "    max-height: 300px;\n",
       "    overflow: auto;\n",
       "  }\n",
       "  table, th, td {\n",
       "    border: 1px solid black;\n",
       "    border-collapse: collapse;\n",
       "  }\n",
       "  th, td {\n",
       "    padding: 5px;\n",
       "  }\n",
       "  th {\n",
       "    text-align: left;\n",
       "  }\n",
       "</style><div class='table-result-container'><table class='table-result'><thead style='background-color: white'><tr><th>business_year</th><th>plan_type</th><th>avg_rate</th></tr></thead><tbody><tr><td>2024</td><td>EPO</td><td>658.819584</td></tr><tr><td>2018</td><td>HMO</td><td>583.032489</td></tr><tr><td>2020</td><td>EPO</td><td>584.635524</td></tr><tr><td>2023</td><td>HMO</td><td>606.581279</td></tr><tr><td>2024</td><td>PPO</td><td>747.925810</td></tr><tr><td>2021</td><td>HMO</td><td>559.981786</td></tr><tr><td>2019</td><td>EPO</td><td>631.836136</td></tr><tr><td>2023</td><td>POS</td><td>713.507463</td></tr><tr><td>2022</td><td>EPO</td><td>602.131236</td></tr><tr><td>2019</td><td>HMO</td><td>584.363038</td></tr><tr><td>2020</td><td>POS</td><td>612.937564</td></tr><tr><td>2023</td><td>EPO</td><td>634.906894</td></tr><tr><td>2022</td><td>PPO</td><td>637.744667</td></tr><tr><td>2020</td><td>PPO</td><td>640.668639</td></tr><tr><td>2024</td><td>POS</td><td>697.887220</td></tr><tr><td>2021</td><td>POS</td><td>598.036829</td></tr><tr><td>2022</td><td>HMO</td><td>565.791673</td></tr><tr><td>2020</td><td>HMO</td><td>568.200375</td></tr><tr><td>2019</td><td>PPO</td><td>669.453893</td></tr><tr><td>2018</td><td>EPO</td><td>594.196926</td></tr><tr><td>2024</td><td>HMO</td><td>631.871777</td></tr><tr><td>2021</td><td>EPO</td><td>595.796818</td></tr><tr><td>2019</td><td>POS</td><td>622.639343</td></tr><tr><td>2021</td><td>PPO</td><td>626.819188</td></tr><tr><td>2018</td><td>PPO</td><td>638.520432</td></tr><tr><td>2023</td><td>PPO</td><td>703.440724</td></tr><tr><td>2022</td><td>POS</td><td>618.410705</td></tr><tr><td>2018</td><td>POS</td><td>615.264567</td></tr></tbody></table></div>"
      ]
     },
     "metadata": {
      "application/vnd.databricks.v1+output": {
       "addedWidgets": {},
       "aggData": [],
       "aggError": "",
       "aggOverflow": false,
       "aggSchema": [],
       "aggSeriesLimitReached": false,
       "aggType": "",
       "arguments": {},
       "columnCustomDisplayInfos": {},
       "data": [
        [
         2024,
         "EPO",
         "658.819584"
        ],
        [
         2018,
         "HMO",
         "583.032489"
        ],
        [
         2020,
         "EPO",
         "584.635524"
        ],
        [
         2023,
         "HMO",
         "606.581279"
        ],
        [
         2024,
         "PPO",
         "747.925810"
        ],
        [
         2021,
         "HMO",
         "559.981786"
        ],
        [
         2019,
         "EPO",
         "631.836136"
        ],
        [
         2023,
         "POS",
         "713.507463"
        ],
        [
         2022,
         "EPO",
         "602.131236"
        ],
        [
         2019,
         "HMO",
         "584.363038"
        ],
        [
         2020,
         "POS",
         "612.937564"
        ],
        [
         2023,
         "EPO",
         "634.906894"
        ],
        [
         2022,
         "PPO",
         "637.744667"
        ],
        [
         2020,
         "PPO",
         "640.668639"
        ],
        [
         2024,
         "POS",
         "697.887220"
        ],
        [
         2021,
         "POS",
         "598.036829"
        ],
        [
         2022,
         "HMO",
         "565.791673"
        ],
        [
         2020,
         "HMO",
         "568.200375"
        ],
        [
         2019,
         "PPO",
         "669.453893"
        ],
        [
         2018,
         "EPO",
         "594.196926"
        ],
        [
         2024,
         "HMO",
         "631.871777"
        ],
        [
         2021,
         "EPO",
         "595.796818"
        ],
        [
         2019,
         "POS",
         "622.639343"
        ],
        [
         2021,
         "PPO",
         "626.819188"
        ],
        [
         2018,
         "PPO",
         "638.520432"
        ],
        [
         2023,
         "PPO",
         "703.440724"
        ],
        [
         2022,
         "POS",
         "618.410705"
        ],
        [
         2018,
         "POS",
         "615.264567"
        ]
       ],
       "datasetInfos": [],
       "dbfsResultPath": null,
       "isJsonSchema": true,
       "metadata": {
        "isDbfsCommandResult": false
       },
       "overflow": false,
       "plotOptions": {
        "customPlotOptions": {},
        "displayType": "table",
        "pivotAggregation": null,
        "pivotColumns": null,
        "xColumns": null,
        "yColumns": null
       },
       "removedWidgets": [],
       "schema": [
        {
         "metadata": "{}",
         "name": "business_year",
         "type": "\"integer\""
        },
        {
         "metadata": "{}",
         "name": "plan_type",
         "type": "\"string\""
        },
        {
         "metadata": "{}",
         "name": "avg_rate",
         "type": "\"decimal(14,6)\""
        }
       ],
       "type": "table"
      }
     },
     "output_type": "display_data"
    },
    {
     "output_type": "display_data",
     "data": {
      "text/plain": [
       "Databricks visualization. Run in Databricks to view."
      ]
     },
     "metadata": {
      "application/vnd.databricks.v1.subcommand+json": {
       "baseErrorDetails": null,
       "bindings": {},
       "collapsed": false,
       "command": "%sql WITH q AS (with joined as (\nselect\np.*,\nr.state_code,\nFILTER(r.age_category_and_year, x -> x.business_year BETWEEN greatest(p.start_year, 2018) and least(p.end_year, 2024)) AS filtered_structs\nfrom dev_catalog.gold.plans_dim_scd p\njoin dev_catalog.gold.rates_fact r on p.plan_id = r.plan_id\nwhere p.start_year <= 2024 and p.end_year >= 2018\nand r.current_year = 2024\n),\nexploded as (\nSELECT \n    plan_id,\n    metal_level,\n    new_plan,\n    plan_type,\n    pandemic_era,\n    struct_col.business_year,\n    age_category,\n    age_rate\nFROM joined j \nLATERAL VIEW EXPLODE(filtered_structs) exploded AS struct_col\nLATERAL VIEW EXPLODE(\n    MAP(\n        'age_0_19', struct_col.age_0_19,\n        'age_20_29', struct_col.age_20_29,\n        'age_30_39', struct_col.age_30_39,\n        'age_40_49', struct_col.age_40_49,\n        'age_50_59', struct_col.age_50_59,\n        'age_60_plus', struct_col.age_60_plus\n    )\n) exploded_map AS age_category, age_rate\n)\nSELECT\nbusiness_year,\nplan_type,\nAVG(age_rate) avg_rate\nFROM exploded\ngroup by business_year, plan_type) SELECT `business_year`,SUM(`avg_rate`) `column_d5fb548212`,`plan_type` FROM q GROUP BY `business_year`,`plan_type`",
       "commandTitle": "Visualization 1",
       "commandType": "auto",
       "commandVersion": 0,
       "commentThread": [],
       "commentsVisible": false,
       "contentSha256Hex": null,
       "customPlotOptions": {
        "redashChart": [
         {
          "key": "type",
          "value": "CHART"
         },
         {
          "key": "options",
          "value": {
           "alignYAxesAtZero": true,
           "coefficient": 1,
           "columnConfigurationMap": {
            "series": {
             "column": "plan_type",
             "id": "column_d5fb548213"
            },
            "x": {
             "column": "business_year",
             "id": "column_d5fb548211"
            },
            "y": [
             {
              "column": "avg_rate",
              "id": "column_d5fb548212",
              "transform": "SUM"
             }
            ]
           },
           "dateTimeFormat": "DD/MM/YYYY HH:mm",
           "direction": {
            "type": "counterclockwise"
           },
           "error_y": {
            "type": "data",
            "visible": true
           },
           "globalSeriesType": "line",
           "isAggregationOn": true,
           "legend": {
            "traceorder": "normal"
           },
           "missingValuesAsZero": true,
           "numberFormat": "0,0.[00000]",
           "percentFormat": "0[.]00%",
           "series": {
            "error_y": {
             "type": "data",
             "visible": true
            },
            "stacking": null
           },
           "seriesOptions": {
            "column_d5fb548212": {
             "name": "avg_rate",
             "type": "line",
             "yAxis": 0
            }
           },
           "showDataLabels": false,
           "sizemode": "diameter",
           "sortX": true,
           "sortY": true,
           "swappedAxes": false,
           "textFormat": "",
           "useAggregationsUi": true,
           "valuesOptions": {},
           "version": 2,
           "xAxis": {
            "labels": {
             "enabled": true
            },
            "type": "-"
           },
           "yAxis": [
            {
             "type": "-"
            },
            {
             "opposite": true,
             "type": "-"
            }
           ]
          }
         }
        ]
       },
       "datasetPreviewNameToCmdIdMap": {},
       "diffDeletes": [],
       "diffInserts": [],
       "displayType": "redashChart",
       "error": null,
       "errorDetails": null,
       "errorSummary": null,
       "errorTraceType": null,
       "finishTime": 0,
       "globalVars": {},
       "guid": "",
       "height": "auto",
       "hideCommandCode": false,
       "hideCommandResult": false,
       "iPythonMetadata": null,
       "inputWidgets": {},
       "isLockedInExamMode": false,
       "latestUser": "a user",
       "latestUserId": null,
       "listResultMetadata": null,
       "metadata": {},
       "nuid": "11b0356d-a7ff-47ca-ae07-84c2913940d1",
       "origId": 0,
       "parentHierarchy": [],
       "pivotAggregation": null,
       "pivotColumns": null,
       "position": 5.0,
       "resultDbfsErrorMessage": null,
       "resultDbfsStatus": "INLINED_IN_TREE",
       "results": null,
       "showCommandTitle": false,
       "startTime": 0,
       "state": "input",
       "streamStates": {},
       "subcommandOptions": {
        "queryPlan": {
         "groups": [
          {
           "column": "business_year",
           "type": "column"
          },
          {
           "column": "plan_type",
           "type": "column"
          }
         ],
         "selects": [
          {
           "column": "business_year",
           "type": "column"
          },
          {
           "alias": "column_d5fb548212",
           "args": [
            {
             "column": "avg_rate",
             "type": "column"
            }
           ],
           "function": "SUM",
           "type": "function"
          },
          {
           "column": "plan_type",
           "type": "column"
          }
         ]
        }
       },
       "submitTime": 0,
       "subtype": "tableResultSubCmd.visualization",
       "tableResultIndex": 0,
       "tableResultSettingsMap": {},
       "useConsistentColors": false,
       "version": "CommandV1",
       "width": "auto",
       "workflows": [],
       "xColumns": null,
       "yColumns": null
      }
     },
     "output_type": "display_data"
    }
   ],
   "source": [
    "with joined as (\n",
    "select\n",
    "p.*,\n",
    "r.state_code,\n",
    "FILTER(r.age_category_and_year, x -> x.business_year BETWEEN greatest(p.start_year, 2018) and least(p.end_year, 2024)) AS filtered_structs\n",
    "from dev_catalog.gold.plans_dim_scd p\n",
    "join dev_catalog.gold.rates_fact r on p.plan_id = r.plan_id\n",
    "where p.start_year <= 2024 and p.end_year >= 2018\n",
    "and r.current_year = 2024\n",
    "),\n",
    "exploded as (\n",
    "SELECT \n",
    "    plan_id,\n",
    "    metal_level,\n",
    "    new_plan,\n",
    "    plan_type,\n",
    "    pandemic_era,\n",
    "    struct_col.business_year,\n",
    "    age_category,\n",
    "    age_rate\n",
    "FROM joined j \n",
    "LATERAL VIEW EXPLODE(filtered_structs) exploded AS struct_col\n",
    "LATERAL VIEW EXPLODE(\n",
    "    MAP(\n",
    "        'age_0_19', struct_col.age_0_19,\n",
    "        'age_20_29', struct_col.age_20_29,\n",
    "        'age_30_39', struct_col.age_30_39,\n",
    "        'age_40_49', struct_col.age_40_49,\n",
    "        'age_50_59', struct_col.age_50_59,\n",
    "        'age_60_plus', struct_col.age_60_plus\n",
    "    )\n",
    ") exploded_map AS age_category, age_rate\n",
    ")\n",
    "SELECT\n",
    "business_year,\n",
    "plan_type,\n",
    "AVG(age_rate) avg_rate\n",
    "FROM exploded\n",
    "group by business_year, plan_type"
   ]
  },
  {
   "cell_type": "code",
   "execution_count": 0,
   "metadata": {
    "application/vnd.databricks.v1+cell": {
     "cellMetadata": {
      "byteLimit": 2048000,
      "rowLimit": 10000
     },
     "inputWidgets": {},
     "nuid": "fe1e51a9-a3a4-48b9-a455-ee792fcdfb11",
     "showTitle": false,
     "tableResultSettingsMap": {},
     "title": ""
    }
   },
   "outputs": [
    {
     "output_type": "display_data",
     "data": {
      "text/html": [
       "<style scoped>\n",
       "  .table-result-container {\n",
       "    max-height: 300px;\n",
       "    overflow: auto;\n",
       "  }\n",
       "  table, th, td {\n",
       "    border: 1px solid black;\n",
       "    border-collapse: collapse;\n",
       "  }\n",
       "  th, td {\n",
       "    padding: 5px;\n",
       "  }\n",
       "  th {\n",
       "    text-align: left;\n",
       "  }\n",
       "</style><div class='table-result-container'><table class='table-result'><thead style='background-color: white'><tr><th>business_year</th><th>new_plan</th><th>avg_rate</th></tr></thead><tbody><tr><td>2018</td><td>new</td><td>592.937916</td></tr><tr><td>2020</td><td>existing</td><td>602.133742</td></tr><tr><td>2021</td><td>new</td><td>570.129211</td></tr><tr><td>2020</td><td>new</td><td>557.269064</td></tr><tr><td>2021</td><td>existing</td><td>587.418135</td></tr><tr><td>2018</td><td>existing</td><td>607.884149</td></tr><tr><td>2022</td><td>new</td><td>576.203383</td></tr><tr><td>2019</td><td>existing</td><td>609.415821</td></tr><tr><td>2022</td><td>existing</td><td>597.774799</td></tr><tr><td>2024</td><td>existing</td><td>658.094076</td></tr><tr><td>2023</td><td>new</td><td>630.270326</td></tr><tr><td>2019</td><td>new</td><td>625.356021</td></tr><tr><td>2024</td><td>new</td><td>668.390654</td></tr><tr><td>2023</td><td>existing</td><td>626.950161</td></tr></tbody></table></div>"
      ]
     },
     "metadata": {
      "application/vnd.databricks.v1+output": {
       "addedWidgets": {},
       "aggData": [],
       "aggError": "",
       "aggOverflow": false,
       "aggSchema": [],
       "aggSeriesLimitReached": false,
       "aggType": "",
       "arguments": {},
       "columnCustomDisplayInfos": {},
       "data": [
        [
         2018,
         "new",
         "592.937916"
        ],
        [
         2020,
         "existing",
         "602.133742"
        ],
        [
         2021,
         "new",
         "570.129211"
        ],
        [
         2020,
         "new",
         "557.269064"
        ],
        [
         2021,
         "existing",
         "587.418135"
        ],
        [
         2018,
         "existing",
         "607.884149"
        ],
        [
         2022,
         "new",
         "576.203383"
        ],
        [
         2019,
         "existing",
         "609.415821"
        ],
        [
         2022,
         "existing",
         "597.774799"
        ],
        [
         2024,
         "existing",
         "658.094076"
        ],
        [
         2023,
         "new",
         "630.270326"
        ],
        [
         2019,
         "new",
         "625.356021"
        ],
        [
         2024,
         "new",
         "668.390654"
        ],
        [
         2023,
         "existing",
         "626.950161"
        ]
       ],
       "datasetInfos": [],
       "dbfsResultPath": null,
       "isJsonSchema": true,
       "metadata": {
        "isDbfsCommandResult": false
       },
       "overflow": false,
       "plotOptions": {
        "customPlotOptions": {},
        "displayType": "table",
        "pivotAggregation": null,
        "pivotColumns": null,
        "xColumns": null,
        "yColumns": null
       },
       "removedWidgets": [],
       "schema": [
        {
         "metadata": "{}",
         "name": "business_year",
         "type": "\"integer\""
        },
        {
         "metadata": "{}",
         "name": "new_plan",
         "type": "\"string\""
        },
        {
         "metadata": "{}",
         "name": "avg_rate",
         "type": "\"decimal(14,6)\""
        }
       ],
       "type": "table"
      }
     },
     "output_type": "display_data"
    },
    {
     "output_type": "display_data",
     "data": {
      "text/plain": [
       "Databricks visualization. Run in Databricks to view."
      ]
     },
     "metadata": {
      "application/vnd.databricks.v1.subcommand+json": {
       "baseErrorDetails": null,
       "bindings": {},
       "collapsed": false,
       "command": "%sql WITH q AS (with joined as (\nselect\np.*,\nr.state_code,\nFILTER(r.age_category_and_year, x -> x.business_year BETWEEN greatest(p.start_year, 2018) and least(p.end_year, 2024)) AS filtered_structs\nfrom dev_catalog.gold.plans_dim_scd p\njoin dev_catalog.gold.rates_fact r on p.plan_id = r.plan_id\nwhere p.start_year <= 2024 and p.end_year >= 2018\nand r.current_year = 2024\n),\nexploded as (\nSELECT \n    plan_id,\n    metal_level,\n    new_plan,\n    plan_type,\n    pandemic_era,\n    struct_col.business_year,\n    age_category,\n    age_rate\nFROM joined j \nLATERAL VIEW EXPLODE(filtered_structs) exploded AS struct_col\nLATERAL VIEW EXPLODE(\n    MAP(\n        'age_0_19', struct_col.age_0_19,\n        'age_20_29', struct_col.age_20_29,\n        'age_30_39', struct_col.age_30_39,\n        'age_40_49', struct_col.age_40_49,\n        'age_50_59', struct_col.age_50_59,\n        'age_60_plus', struct_col.age_60_plus\n    )\n) exploded_map AS age_category, age_rate\n)\nSELECT\nbusiness_year,\nnew_plan,\nAVG(age_rate) avg_rate\nFROM exploded\ngroup by business_year, new_plan) SELECT `business_year`,SUM(`avg_rate`) `column_d5fb548222`,`new_plan` FROM q GROUP BY `business_year`,`new_plan`",
       "commandTitle": "Visualization 1",
       "commandType": "auto",
       "commandVersion": 0,
       "commentThread": [],
       "commentsVisible": false,
       "contentSha256Hex": null,
       "customPlotOptions": {
        "redashChart": [
         {
          "key": "type",
          "value": "CHART"
         },
         {
          "key": "options",
          "value": {
           "alignYAxesAtZero": true,
           "coefficient": 1,
           "columnConfigurationMap": {
            "series": {
             "column": "new_plan",
             "id": "column_d5fb548223"
            },
            "x": {
             "column": "business_year",
             "id": "column_d5fb548221"
            },
            "y": [
             {
              "column": "avg_rate",
              "id": "column_d5fb548222",
              "transform": "SUM"
             }
            ]
           },
           "dateTimeFormat": "DD/MM/YYYY HH:mm",
           "direction": {
            "type": "counterclockwise"
           },
           "error_y": {
            "type": "data",
            "visible": true
           },
           "globalSeriesType": "line",
           "isAggregationOn": true,
           "legend": {
            "traceorder": "normal"
           },
           "missingValuesAsZero": true,
           "numberFormat": "0,0.[00000]",
           "percentFormat": "0[.]00%",
           "series": {
            "error_y": {
             "type": "data",
             "visible": true
            },
            "stacking": null
           },
           "seriesOptions": {
            "column_d5fb548222": {
             "name": "avg_rate",
             "type": "line",
             "yAxis": 0
            }
           },
           "showDataLabels": false,
           "sizemode": "diameter",
           "sortX": true,
           "sortY": true,
           "swappedAxes": false,
           "textFormat": "",
           "useAggregationsUi": true,
           "valuesOptions": {},
           "version": 2,
           "xAxis": {
            "labels": {
             "enabled": true
            },
            "type": "-"
           },
           "yAxis": [
            {
             "type": "-"
            },
            {
             "opposite": true,
             "type": "-"
            }
           ]
          }
         }
        ]
       },
       "datasetPreviewNameToCmdIdMap": {},
       "diffDeletes": [],
       "diffInserts": [],
       "displayType": "redashChart",
       "error": null,
       "errorDetails": null,
       "errorSummary": null,
       "errorTraceType": null,
       "finishTime": 0,
       "globalVars": {},
       "guid": "",
       "height": "auto",
       "hideCommandCode": false,
       "hideCommandResult": false,
       "iPythonMetadata": null,
       "inputWidgets": {},
       "isLockedInExamMode": false,
       "latestUser": "a user",
       "latestUserId": null,
       "listResultMetadata": null,
       "metadata": {},
       "nuid": "ea8d26ef-4634-4c99-bc10-f53ad9fca74d",
       "origId": 0,
       "parentHierarchy": [],
       "pivotAggregation": null,
       "pivotColumns": null,
       "position": 6.0,
       "resultDbfsErrorMessage": null,
       "resultDbfsStatus": "INLINED_IN_TREE",
       "results": null,
       "showCommandTitle": false,
       "startTime": 0,
       "state": "input",
       "streamStates": {},
       "subcommandOptions": {
        "queryPlan": {
         "groups": [
          {
           "column": "business_year",
           "type": "column"
          },
          {
           "column": "new_plan",
           "type": "column"
          }
         ],
         "selects": [
          {
           "column": "business_year",
           "type": "column"
          },
          {
           "alias": "column_d5fb548222",
           "args": [
            {
             "column": "avg_rate",
             "type": "column"
            }
           ],
           "function": "SUM",
           "type": "function"
          },
          {
           "column": "new_plan",
           "type": "column"
          }
         ]
        }
       },
       "submitTime": 0,
       "subtype": "tableResultSubCmd.visualization",
       "tableResultIndex": 0,
       "tableResultSettingsMap": {},
       "useConsistentColors": false,
       "version": "CommandV1",
       "width": "auto",
       "workflows": [],
       "xColumns": null,
       "yColumns": null
      }
     },
     "output_type": "display_data"
    }
   ],
   "source": [
    "with joined as (\n",
    "select\n",
    "p.*,\n",
    "r.state_code,\n",
    "FILTER(r.age_category_and_year, x -> x.business_year BETWEEN greatest(p.start_year, 2018) and least(p.end_year, 2024)) AS filtered_structs\n",
    "from dev_catalog.gold.plans_dim_scd p\n",
    "join dev_catalog.gold.rates_fact r on p.plan_id = r.plan_id\n",
    "where p.start_year <= 2024 and p.end_year >= 2018\n",
    "and r.current_year = 2024\n",
    "),\n",
    "exploded as (\n",
    "SELECT \n",
    "    plan_id,\n",
    "    metal_level,\n",
    "    new_plan,\n",
    "    plan_type,\n",
    "    pandemic_era,\n",
    "    struct_col.business_year,\n",
    "    age_category,\n",
    "    age_rate\n",
    "FROM joined j \n",
    "LATERAL VIEW EXPLODE(filtered_structs) exploded AS struct_col\n",
    "LATERAL VIEW EXPLODE(\n",
    "    MAP(\n",
    "        'age_0_19', struct_col.age_0_19,\n",
    "        'age_20_29', struct_col.age_20_29,\n",
    "        'age_30_39', struct_col.age_30_39,\n",
    "        'age_40_49', struct_col.age_40_49,\n",
    "        'age_50_59', struct_col.age_50_59,\n",
    "        'age_60_plus', struct_col.age_60_plus\n",
    "    )\n",
    ") exploded_map AS age_category, age_rate\n",
    ")\n",
    "SELECT\n",
    "business_year,\n",
    "new_plan,\n",
    "AVG(age_rate) avg_rate\n",
    "FROM exploded\n",
    "group by business_year, new_plan"
   ]
  },
  {
   "cell_type": "code",
   "execution_count": 0,
   "metadata": {
    "application/vnd.databricks.v1+cell": {
     "cellMetadata": {
      "byteLimit": 2048000,
      "rowLimit": 10000
     },
     "inputWidgets": {},
     "nuid": "3ada498a-eab6-4c9a-a565-425129be4cbe",
     "showTitle": false,
     "tableResultSettingsMap": {},
     "title": ""
    }
   },
   "outputs": [
    {
     "output_type": "display_data",
     "data": {
      "text/html": [
       "<style scoped>\n",
       "  .table-result-container {\n",
       "    max-height: 300px;\n",
       "    overflow: auto;\n",
       "  }\n",
       "  table, th, td {\n",
       "    border: 1px solid black;\n",
       "    border-collapse: collapse;\n",
       "  }\n",
       "  th, td {\n",
       "    padding: 5px;\n",
       "  }\n",
       "  th {\n",
       "    text-align: left;\n",
       "  }\n",
       "</style><div class='table-result-container'><table class='table-result'><thead style='background-color: white'><tr><th>business_year</th><th>pandemic_era</th><th>avg_rate</th></tr></thead><tbody><tr><td>2019</td><td>pre-covid</td><td>615.791901</td></tr><tr><td>2020</td><td>pre-covid</td><td>588.499276</td></tr><tr><td>2022</td><td>post-covid</td><td>588.108155</td></tr><tr><td>2024</td><td>post-covid</td><td>660.417990</td></tr><tr><td>2021</td><td>post-covid</td><td>581.966673</td></tr><tr><td>2023</td><td>post-covid</td><td>628.475402</td></tr><tr><td>2018</td><td>pre-covid</td><td>600.708609</td></tr></tbody></table></div>"
      ]
     },
     "metadata": {
      "application/vnd.databricks.v1+output": {
       "addedWidgets": {},
       "aggData": [],
       "aggError": "",
       "aggOverflow": false,
       "aggSchema": [],
       "aggSeriesLimitReached": false,
       "aggType": "",
       "arguments": {},
       "columnCustomDisplayInfos": {},
       "data": [
        [
         2019,
         "pre-covid",
         "615.791901"
        ],
        [
         2020,
         "pre-covid",
         "588.499276"
        ],
        [
         2022,
         "post-covid",
         "588.108155"
        ],
        [
         2024,
         "post-covid",
         "660.417990"
        ],
        [
         2021,
         "post-covid",
         "581.966673"
        ],
        [
         2023,
         "post-covid",
         "628.475402"
        ],
        [
         2018,
         "pre-covid",
         "600.708609"
        ]
       ],
       "datasetInfos": [],
       "dbfsResultPath": null,
       "isJsonSchema": true,
       "metadata": {
        "isDbfsCommandResult": false
       },
       "overflow": false,
       "plotOptions": {
        "customPlotOptions": {},
        "displayType": "table",
        "pivotAggregation": null,
        "pivotColumns": null,
        "xColumns": null,
        "yColumns": null
       },
       "removedWidgets": [],
       "schema": [
        {
         "metadata": "{}",
         "name": "business_year",
         "type": "\"integer\""
        },
        {
         "metadata": "{}",
         "name": "pandemic_era",
         "type": "\"string\""
        },
        {
         "metadata": "{}",
         "name": "avg_rate",
         "type": "\"decimal(14,6)\""
        }
       ],
       "type": "table"
      }
     },
     "output_type": "display_data"
    },
    {
     "output_type": "display_data",
     "data": {
      "text/plain": [
       "Databricks visualization. Run in Databricks to view."
      ]
     },
     "metadata": {
      "application/vnd.databricks.v1.subcommand+json": {
       "baseErrorDetails": null,
       "bindings": {},
       "collapsed": false,
       "command": "%sql WITH q AS (with joined as (\nselect\np.*,\nr.state_code,\nFILTER(r.age_category_and_year, x -> x.business_year BETWEEN greatest(p.start_year, 2018) and least(p.end_year, 2024)) AS filtered_structs\nfrom dev_catalog.gold.plans_dim_scd p\njoin dev_catalog.gold.rates_fact r on p.plan_id = r.plan_id\nwhere p.start_year <= 2024 and p.end_year >= 2018\nand r.current_year = 2024\n),\nexploded as (\nSELECT \n    plan_id,\n    metal_level,\n    new_plan,\n    plan_type,\n    pandemic_era,\n    struct_col.business_year,\n    age_category,\n    age_rate\nFROM joined j \nLATERAL VIEW EXPLODE(filtered_structs) exploded AS struct_col\nLATERAL VIEW EXPLODE(\n    MAP(\n        'age_0_19', struct_col.age_0_19,\n        'age_20_29', struct_col.age_20_29,\n        'age_30_39', struct_col.age_30_39,\n        'age_40_49', struct_col.age_40_49,\n        'age_50_59', struct_col.age_50_59,\n        'age_60_plus', struct_col.age_60_plus\n    )\n) exploded_map AS age_category, age_rate\n)\nSELECT\nbusiness_year,\npandemic_era,\nAVG(age_rate) avg_rate\nFROM exploded\ngroup by business_year, pandemic_era) SELECT `business_year`,SUM(`avg_rate`) `column_d5fb548226`,`pandemic_era` FROM q GROUP BY `business_year`,`pandemic_era`",
       "commandTitle": "Visualization 1",
       "commandType": "auto",
       "commandVersion": 0,
       "commentThread": [],
       "commentsVisible": false,
       "contentSha256Hex": null,
       "customPlotOptions": {
        "redashChart": [
         {
          "key": "type",
          "value": "CHART"
         },
         {
          "key": "options",
          "value": {
           "alignYAxesAtZero": true,
           "coefficient": 1,
           "columnConfigurationMap": {
            "series": {
             "column": "pandemic_era",
             "id": "column_d5fb548227"
            },
            "x": {
             "column": "business_year",
             "id": "column_d5fb548225"
            },
            "y": [
             {
              "column": "avg_rate",
              "id": "column_d5fb548226",
              "transform": "SUM"
             }
            ]
           },
           "dateTimeFormat": "DD/MM/YYYY HH:mm",
           "direction": {
            "type": "counterclockwise"
           },
           "error_y": {
            "type": "data",
            "visible": true
           },
           "globalSeriesType": "column",
           "isAggregationOn": true,
           "legend": {
            "traceorder": "normal"
           },
           "missingValuesAsZero": true,
           "numberFormat": "0,0.[00000]",
           "percentFormat": "0[.]00%",
           "series": {
            "error_y": {
             "type": "data",
             "visible": true
            },
            "stacking": null
           },
           "seriesOptions": {
            "column_d5fb548226": {
             "name": "avg_rate",
             "type": "column",
             "yAxis": 0
            }
           },
           "showDataLabels": false,
           "sizemode": "diameter",
           "sortX": true,
           "sortY": true,
           "swappedAxes": false,
           "textFormat": "",
           "useAggregationsUi": true,
           "valuesOptions": {},
           "version": 2,
           "xAxis": {
            "labels": {
             "enabled": true
            },
            "type": "-"
           },
           "yAxis": [
            {
             "type": "-"
            },
            {
             "opposite": true,
             "type": "-"
            }
           ]
          }
         }
        ]
       },
       "datasetPreviewNameToCmdIdMap": {},
       "diffDeletes": [],
       "diffInserts": [],
       "displayType": "redashChart",
       "error": null,
       "errorDetails": null,
       "errorSummary": null,
       "errorTraceType": null,
       "finishTime": 0,
       "globalVars": {},
       "guid": "",
       "height": "auto",
       "hideCommandCode": false,
       "hideCommandResult": false,
       "iPythonMetadata": null,
       "inputWidgets": {},
       "isLockedInExamMode": false,
       "latestUser": "a user",
       "latestUserId": null,
       "listResultMetadata": null,
       "metadata": {},
       "nuid": "1b234148-2bee-4ed1-8c2f-19e88c10f420",
       "origId": 0,
       "parentHierarchy": [],
       "pivotAggregation": null,
       "pivotColumns": null,
       "position": 7.0,
       "resultDbfsErrorMessage": null,
       "resultDbfsStatus": "INLINED_IN_TREE",
       "results": null,
       "showCommandTitle": false,
       "startTime": 0,
       "state": "input",
       "streamStates": {},
       "subcommandOptions": {
        "queryPlan": {
         "groups": [
          {
           "column": "business_year",
           "type": "column"
          },
          {
           "column": "pandemic_era",
           "type": "column"
          }
         ],
         "selects": [
          {
           "column": "business_year",
           "type": "column"
          },
          {
           "alias": "column_d5fb548226",
           "args": [
            {
             "column": "avg_rate",
             "type": "column"
            }
           ],
           "function": "SUM",
           "type": "function"
          },
          {
           "column": "pandemic_era",
           "type": "column"
          }
         ]
        }
       },
       "submitTime": 0,
       "subtype": "tableResultSubCmd.visualization",
       "tableResultIndex": 0,
       "tableResultSettingsMap": {},
       "useConsistentColors": false,
       "version": "CommandV1",
       "width": "auto",
       "workflows": [],
       "xColumns": null,
       "yColumns": null
      }
     },
     "output_type": "display_data"
    }
   ],
   "source": [
    "with joined as (\n",
    "select\n",
    "p.*,\n",
    "r.state_code,\n",
    "FILTER(r.age_category_and_year, x -> x.business_year BETWEEN greatest(p.start_year, 2018) and least(p.end_year, 2024)) AS filtered_structs\n",
    "from dev_catalog.gold.plans_dim_scd p\n",
    "join dev_catalog.gold.rates_fact r on p.plan_id = r.plan_id\n",
    "where p.start_year <= 2024 and p.end_year >= 2018\n",
    "and r.current_year = 2024\n",
    "),\n",
    "exploded as (\n",
    "SELECT \n",
    "    plan_id,\n",
    "    metal_level,\n",
    "    new_plan,\n",
    "    plan_type,\n",
    "    pandemic_era,\n",
    "    struct_col.business_year,\n",
    "    age_category,\n",
    "    age_rate\n",
    "FROM joined j \n",
    "LATERAL VIEW EXPLODE(filtered_structs) exploded AS struct_col\n",
    "LATERAL VIEW EXPLODE(\n",
    "    MAP(\n",
    "        'age_0_19', struct_col.age_0_19,\n",
    "        'age_20_29', struct_col.age_20_29,\n",
    "        'age_30_39', struct_col.age_30_39,\n",
    "        'age_40_49', struct_col.age_40_49,\n",
    "        'age_50_59', struct_col.age_50_59,\n",
    "        'age_60_plus', struct_col.age_60_plus\n",
    "    )\n",
    ") exploded_map AS age_category, age_rate\n",
    ")\n",
    "SELECT\n",
    "business_year,\n",
    "pandemic_era,\n",
    "AVG(age_rate) avg_rate\n",
    "FROM exploded\n",
    "group by business_year, pandemic_era"
   ]
  },
  {
   "cell_type": "code",
   "execution_count": 0,
   "metadata": {
    "application/vnd.databricks.v1+cell": {
     "cellMetadata": {},
     "inputWidgets": {},
     "nuid": "515a93db-0a05-4646-a50f-9ed9e948520a",
     "showTitle": false,
     "tableResultSettingsMap": {},
     "title": ""
    }
   },
   "outputs": [],
   "source": []
  }
 ],
 "metadata": {
  "application/vnd.databricks.v1+notebook": {
   "computePreferences": null,
   "dashboards": [],
   "environmentMetadata": {
    "base_environment": "",
    "environment_version": "2"
   },
   "language": "sql",
   "notebookMetadata": {
    "pythonIndentUnit": 4
   },
   "notebookName": "Analysis",
   "widgets": {}
  },
  "language_info": {
   "name": "sql"
  }
 },
 "nbformat": 4,
 "nbformat_minor": 0
}