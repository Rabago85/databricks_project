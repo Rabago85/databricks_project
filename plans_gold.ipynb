{
 "cells": [
  {
   "cell_type": "code",
   "execution_count": 0,
   "metadata": {
    "application/vnd.databricks.v1+cell": {
     "cellMetadata": {
      "byteLimit": 2048000,
      "rowLimit": 10000
     },
     "inputWidgets": {},
     "nuid": "ca07aa90-d3f1-45fe-9416-221d15c9d8a7",
     "showTitle": false,
     "tableResultSettingsMap": {},
     "title": ""
    }
   },
   "outputs": [
    {
     "output_type": "execute_result",
     "data": {
      "text/plain": [
       "'dev'"
      ]
     },
     "execution_count": 9,
     "metadata": {},
     "output_type": "execute_result"
    }
   ],
   "source": [
    "dbutils.widgets.text(name=\"env\", defaultValue=\"\", label=\"Enter environment\")\n",
    "env = dbutils.widgets.get(\"env\")\n",
    "env"
   ]
  },
  {
   "cell_type": "code",
   "execution_count": 0,
   "metadata": {
    "application/vnd.databricks.v1+cell": {
     "cellMetadata": {
      "byteLimit": 2048000,
      "rowLimit": 10000
     },
     "inputWidgets": {},
     "nuid": "fde8fcc3-aea3-4536-93df-51b9516bd0f6",
     "showTitle": false,
     "tableResultSettingsMap": {},
     "title": ""
    }
   },
   "outputs": [],
   "source": [
    "import pyspark.sql.functions as F\n",
    "from pyspark.sql.types import IntegerType"
   ]
  },
  {
   "cell_type": "code",
   "execution_count": 0,
   "metadata": {
    "application/vnd.databricks.v1+cell": {
     "cellMetadata": {
      "byteLimit": 2048000,
      "rowLimit": 10000
     },
     "inputWidgets": {},
     "nuid": "aa78224f-16e1-430d-8052-ce69dae5c656",
     "showTitle": false,
     "tableResultSettingsMap": {},
     "title": ""
    }
   },
   "outputs": [
    {
     "output_type": "execute_result",
     "data": {
      "text/plain": [
       "('abfss://landing@dlsunitycat.dfs.core.windows.net/',\n",
       " 'abfss://medallion@dlsunitycat.dfs.core.windows.net/bronze',\n",
       " 'abfss://medallion@dlsunitycat.dfs.core.windows.net/silver',\n",
       " 'abfss://medallion@dlsunitycat.dfs.core.windows.net/gold')"
      ]
     },
     "execution_count": 12,
     "metadata": {},
     "output_type": "execute_result"
    }
   ],
   "source": [
    "%run \"./paths\""
   ]
  },
  {
   "cell_type": "code",
   "execution_count": 0,
   "metadata": {
    "application/vnd.databricks.v1+cell": {
     "cellMetadata": {
      "byteLimit": 2048000,
      "rowLimit": 10000
     },
     "inputWidgets": {},
     "nuid": "e7eb740d-d132-4197-9159-878df9f49c18",
     "showTitle": false,
     "tableResultSettingsMap": {},
     "title": ""
    }
   },
   "outputs": [
    {
     "output_type": "execute_result",
     "data": {
      "text/plain": [
       "('dev_catalog.silver.plans_silver',\n",
       " 'abfss://medallion@dlsunitycat.dfs.core.windows.net/gold/plans_dim_scd')"
      ]
     },
     "execution_count": 16,
     "metadata": {},
     "output_type": "execute_result"
    }
   ],
   "source": [
    "catalog = f'{env}_catalog'\n",
    "upstream_table = f'{catalog}{silver_tables[\"plans\"]}'\n",
    "downstream_path = gold_paths['plans_dim_scd']\n",
    "upstream_table, downstream_path"
   ]
  },
  {
   "cell_type": "code",
   "execution_count": 0,
   "metadata": {
    "application/vnd.databricks.v1+cell": {
     "cellMetadata": {
      "byteLimit": 2048000,
      "rowLimit": 10000
     },
     "inputWidgets": {},
     "nuid": "fe054a39-d199-425a-80f1-27dbe2c3d95f",
     "showTitle": false,
     "tableResultSettingsMap": {},
     "title": ""
    }
   },
   "outputs": [],
   "source": [
    "query = f\"\"\"\n",
    "insert into delta.`{downstream_path}`\n",
    "with lagged as (\n",
    "select \n",
    "  plan_id,\n",
    "  metal_level,\n",
    "  lag(metal_level) over\n",
    "    (partition by plan_id order by business_year) metal_level_prev,\n",
    "  new_plan,\n",
    "  lag(new_plan) over\n",
    "    (partition by plan_id order by business_year) new_plan_prev,\n",
    "  plan_type,\n",
    "  lag(plan_type) over\n",
    "    (partition by plan_id order by business_year) plan_type_prev,\n",
    "    pandemic_era,\n",
    "  lag(pandemic_era) over\n",
    "    (partition by plan_id order by business_year) pandemic_era_prev,\n",
    "  business_year\n",
    "from {upstream_table}\n",
    "),\n",
    "changed as (\n",
    "  select\n",
    "    *,\n",
    "    case\n",
    "      when metal_level != metal_level_prev\n",
    "      or metal_level_prev is null\n",
    "      then 1\n",
    "      when new_plan != new_plan_prev\n",
    "      or new_plan_prev is null\n",
    "      then 1\n",
    "      when plan_type != plan_type_prev\n",
    "      or plan_type_prev is null\n",
    "      then 1\n",
    "      when pandemic_era != pandemic_era_prev\n",
    "      or pandemic_era_prev is null\n",
    "      then 1\n",
    "      else 0\n",
    "    end did_change\n",
    "  from lagged\n",
    "),\n",
    "changes as (\n",
    "\tselect\n",
    "\t\t*,\n",
    "\t\tsum(did_change) over\n",
    "\t\t\t(partition by plan_id order by business_year) change_indicator\n",
    "\tfrom changed\n",
    ")\n",
    "select \n",
    "\tplan_id,\n",
    "\tmetal_level,\n",
    "\tnew_plan,\n",
    "    plan_type,\n",
    "    pandemic_era,\n",
    "\tmin(business_year) start_year,\n",
    "\tmax(business_year) end_year,\n",
    "\t2024 current_year,\n",
    "    CURRENT_TIMESTAMP() AS date_ingested\n",
    "from changes\n",
    "group by plan_id, change_indicator, metal_level, new_plan, plan_type, pandemic_era\n",
    "\"\"\"\n"
   ]
  },
  {
   "cell_type": "code",
   "execution_count": 0,
   "metadata": {
    "application/vnd.databricks.v1+cell": {
     "cellMetadata": {
      "byteLimit": 2048000,
      "rowLimit": 10000
     },
     "inputWidgets": {},
     "nuid": "0957cb1c-efbf-4563-b164-ce549bd6c540",
     "showTitle": false,
     "tableResultSettingsMap": {},
     "title": ""
    }
   },
   "outputs": [
    {
     "output_type": "execute_result",
     "data": {
      "text/plain": [
       "DataFrame[num_affected_rows: bigint, num_inserted_rows: bigint]"
      ]
     },
     "execution_count": 20,
     "metadata": {},
     "output_type": "execute_result"
    }
   ],
   "source": [
    "spark.sql(query)"
   ]
  }
 ],
 "metadata": {
  "application/vnd.databricks.v1+notebook": {
   "computePreferences": null,
   "dashboards": [],
   "environmentMetadata": {
    "base_environment": "",
    "environment_version": "2"
   },
   "language": "python",
   "notebookMetadata": {
    "pythonIndentUnit": 4
   },
   "notebookName": "plans_gold",
   "widgets": {
    "env": {
     "currentValue": "dev",
     "nuid": "265aa833-c268-46fa-abb4-c0b2580d61c9",
     "typedWidgetInfo": {
      "autoCreated": false,
      "defaultValue": "",
      "label": "Enter environment",
      "name": "env",
      "options": {
       "widgetDisplayType": "Text",
       "validationRegex": null
      },
      "parameterDataType": "String"
     },
     "widgetInfo": {
      "widgetType": "text",
      "defaultValue": "",
      "label": "Enter environment",
      "name": "env",
      "options": {
       "widgetType": "text",
       "autoCreated": null,
       "validationRegex": null
      }
     }
    }
   }
  },
  "language_info": {
   "name": "python"
  }
 },
 "nbformat": 4,
 "nbformat_minor": 0
}