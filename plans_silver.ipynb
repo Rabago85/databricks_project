{
 "cells": [
  {
   "cell_type": "code",
   "execution_count": 0,
   "metadata": {
    "application/vnd.databricks.v1+cell": {
     "cellMetadata": {
      "byteLimit": 2048000,
      "rowLimit": 10000
     },
     "inputWidgets": {},
     "nuid": "a8e93ba7-2f06-4963-a8ce-866e97d59ce7",
     "showTitle": false,
     "tableResultSettingsMap": {},
     "title": ""
    }
   },
   "outputs": [
    {
     "output_type": "execute_result",
     "data": {
      "text/plain": [
       "'dev'"
      ]
     },
     "execution_count": 1,
     "metadata": {},
     "output_type": "execute_result"
    }
   ],
   "source": [
    "dbutils.widgets.text(name=\"env\", defaultValue=\"\", label=\"Enter environment\")\n",
    "env = dbutils.widgets.get(\"env\")\n",
    "env"
   ]
  },
  {
   "cell_type": "code",
   "execution_count": 0,
   "metadata": {
    "application/vnd.databricks.v1+cell": {
     "cellMetadata": {
      "byteLimit": 2048000,
      "rowLimit": 10000
     },
     "inputWidgets": {},
     "nuid": "e20b79e4-2fe0-427e-aef6-11840e44bbdf",
     "showTitle": false,
     "tableResultSettingsMap": {},
     "title": ""
    }
   },
   "outputs": [],
   "source": [
    "import pyspark.sql.functions as F\n",
    "from pyspark.sql.types import IntegerType"
   ]
  },
  {
   "cell_type": "code",
   "execution_count": 0,
   "metadata": {
    "application/vnd.databricks.v1+cell": {
     "cellMetadata": {
      "byteLimit": 2048000,
      "rowLimit": 10000
     },
     "inputWidgets": {},
     "nuid": "785e7fa9-614f-4adb-9362-8258fb0a7435",
     "showTitle": false,
     "tableResultSettingsMap": {},
     "title": ""
    }
   },
   "outputs": [
    {
     "output_type": "execute_result",
     "data": {
      "text/plain": [
       "('abfss://landing@dlsunitycat.dfs.core.windows.net/',\n",
       " 'abfss://medallion@dlsunitycat.dfs.core.windows.net/bronze',\n",
       " 'abfss://medallion@dlsunitycat.dfs.core.windows.net/silver',\n",
       " 'abfss://medallion@dlsunitycat.dfs.core.windows.net/gold')"
      ]
     },
     "execution_count": 4,
     "metadata": {},
     "output_type": "execute_result"
    }
   ],
   "source": [
    "%run \"./paths\""
   ]
  },
  {
   "cell_type": "code",
   "execution_count": 0,
   "metadata": {
    "application/vnd.databricks.v1+cell": {
     "cellMetadata": {
      "byteLimit": 2048000,
      "rowLimit": 10000
     },
     "inputWidgets": {},
     "nuid": "b40213b4-4fb9-4d8d-8bde-7f8b04719f79",
     "showTitle": false,
     "tableResultSettingsMap": {},
     "title": ""
    }
   },
   "outputs": [
    {
     "output_type": "execute_result",
     "data": {
      "text/plain": [
       "'dev_catalog.bronze.plans_bronze'"
      ]
     },
     "execution_count": 7,
     "metadata": {},
     "output_type": "execute_result"
    }
   ],
   "source": [
    "catalog = f'{env}_catalog'\n",
    "table = 'plans'\n",
    "plans_table = f'{catalog}{bronze_tables[table]}'\n",
    "plans_table\n"
   ]
  },
  {
   "cell_type": "code",
   "execution_count": 0,
   "metadata": {
    "application/vnd.databricks.v1+cell": {
     "cellMetadata": {
      "byteLimit": 2048000,
      "rowLimit": 10000
     },
     "inputWidgets": {},
     "nuid": "c75d6ac9-f9d5-4fe2-9743-1a4aa8d3af77",
     "showTitle": false,
     "tableResultSettingsMap": {},
     "title": ""
    }
   },
   "outputs": [],
   "source": [
    "plans = spark.table(plans_table)"
   ]
  },
  {
   "cell_type": "code",
   "execution_count": 0,
   "metadata": {
    "application/vnd.databricks.v1+cell": {
     "cellMetadata": {
      "byteLimit": 2048000,
      "rowLimit": 10000
     },
     "inputWidgets": {},
     "nuid": "371c0418-3dda-45d2-9230-524af465466c",
     "showTitle": false,
     "tableResultSettingsMap": {},
     "title": ""
    }
   },
   "outputs": [],
   "source": [
    "plans_1 = (\n",
    "    plans.filter(F.col(\"dental_only_plan\") != \"Yes\")\n",
    "    .filter((F.col(\"metal_level\").isNotNull()) & (F.col(\"plan_type\") != \"Indemnity\"))\n",
    "    .withColumn(\"new_plan\", F.lower(\"new_plan\"))\n",
    "    .withColumn(\n",
    "        \"metal_level\", F.regexp_replace(\"metal_level\", \"Expanded Bronze\", \"Bronze\")\n",
    "    )\n",
    "    .withColumn(\"metal_level\", F.lower(\"metal_level\"))\n",
    "    .drop(\"dental_only_plan\", \"date_ingested\")\n",
    ")\n",
    "\n",
    "def find_bad_plans(df, col):\n",
    "    df = (\n",
    "        df.select(\"plan_id\", col)\n",
    "        .dropDuplicates()\n",
    "        .groupBy(\"plan_id\")\n",
    "        .count()\n",
    "        .filter(F.col(\"count\") > 1)\n",
    "        .select(F.col(\"plan_id\").alias(\"bad_plans\"))\n",
    "    )\n",
    "    return df\n",
    "\n",
    "\n",
    "def combine_bad_plans(df_1, df_2):\n",
    "    return df_1.unionByName(df_2)\n",
    "\n",
    "bad_plans_df = combine_bad_plans(\n",
    "    find_bad_plans(plans_1, \"metal_level\"), find_bad_plans(plans_1, \"plan_type\")\n",
    ")\n",
    "\n",
    "plans_2 = (\n",
    "    plans_1.join(\n",
    "        F.broadcast(bad_plans_df),\n",
    "        plans_1[\"plan_id\"] == bad_plans_df[\"bad_plans\"],\n",
    "        how=\"left\",\n",
    "    )\n",
    "    .filter(F.col(\"bad_plans\").isNull())\n",
    "    .drop(\"bad_plans\")\n",
    ")\n",
    "\n",
    "plans_3 = (\n",
    "    plans_2.dropDuplicates()\n",
    "    .withColumn(\"pandemic_era\", F.when(F.col(\"business_year\") < 2021, \"pre-covid\").otherwise(\"post-covid\"))\n",
    "    .withColumn(\"date_ingested\", F.current_timestamp())\n",
    ")\n",
    "\n",
    "plans_3.write.format(\"delta\").mode(\"overwrite\").save(silver_paths[table])\n",
    "\n"
   ]
  }
 ],
 "metadata": {
  "application/vnd.databricks.v1+notebook": {
   "computePreferences": null,
   "dashboards": [],
   "environmentMetadata": {
    "base_environment": "",
    "environment_version": "2"
   },
   "language": "python",
   "notebookMetadata": {
    "pythonIndentUnit": 4
   },
   "notebookName": "plans_silver",
   "widgets": {
    "env": {
     "currentValue": "dev",
     "nuid": "f14cfd5a-57bd-478c-83fe-58444b960d64",
     "typedWidgetInfo": {
      "autoCreated": false,
      "defaultValue": "",
      "label": "Enter environment",
      "name": "env",
      "options": {
       "widgetDisplayType": "Text",
       "validationRegex": null
      },
      "parameterDataType": "String"
     },
     "widgetInfo": {
      "widgetType": "text",
      "defaultValue": "",
      "label": "Enter environment",
      "name": "env",
      "options": {
       "widgetType": "text",
       "autoCreated": null,
       "validationRegex": null
      }
     }
    }
   }
  },
  "language_info": {
   "name": "python"
  }
 },
 "nbformat": 4,
 "nbformat_minor": 0
}