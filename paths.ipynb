{
 "cells": [
  {
   "cell_type": "code",
   "execution_count": 0,
   "metadata": {
    "application/vnd.databricks.v1+cell": {
     "cellMetadata": {
      "byteLimit": 2048000,
      "rowLimit": 10000
     },
     "inputWidgets": {},
     "nuid": "b5ac2c24-dd6c-4e2c-a8d0-24134f388a86",
     "showTitle": false,
     "tableResultSettingsMap": {},
     "title": ""
    }
   },
   "outputs": [],
   "source": [
    "import os\n"
   ]
  },
  {
   "cell_type": "code",
   "execution_count": 0,
   "metadata": {
    "application/vnd.databricks.v1+cell": {
     "cellMetadata": {
      "byteLimit": 2048000,
      "rowLimit": 10000
     },
     "inputWidgets": {},
     "nuid": "d1681501-895f-4bb4-a91d-f248aa806110",
     "showTitle": false,
     "tableResultSettingsMap": {},
     "title": ""
    }
   },
   "outputs": [
    {
     "output_type": "execute_result",
     "data": {
      "text/plain": [
       "('abfss://landing@dlsunitycat.dfs.core.windows.net/',\n",
       " 'abfss://medallion@dlsunitycat.dfs.core.windows.net/bronze',\n",
       " 'abfss://medallion@dlsunitycat.dfs.core.windows.net/silver',\n",
       " 'abfss://medallion@dlsunitycat.dfs.core.windows.net/gold')"
      ]
     },
     "execution_count": 6,
     "metadata": {},
     "output_type": "execute_result"
    }
   ],
   "source": [
    "raw_path = spark.sql(f'DESCRIBE EXTERNAL LOCATION landing').select('url').collect()[0].url\n",
    "bronze_path = spark.sql(f'DESCRIBE EXTERNAL LOCATION bronze').select('url').collect()[0].url\n",
    "silver_path = spark.sql(f'DESCRIBE EXTERNAL LOCATION silver').select('url').collect()[0].url\n",
    "gold_path = spark.sql(f'DESCRIBE EXTERNAL LOCATION gold').select('url').collect()[0].url\n",
    "raw_path, bronze_path, silver_path, gold_path"
   ]
  },
  {
   "cell_type": "code",
   "execution_count": 0,
   "metadata": {
    "application/vnd.databricks.v1+cell": {
     "cellMetadata": {
      "byteLimit": 2048000,
      "rowLimit": 10000
     },
     "inputWidgets": {},
     "nuid": "4e2689ac-718f-4ee9-8705-529ede72b020",
     "showTitle": false,
     "tableResultSettingsMap": {},
     "title": ""
    }
   },
   "outputs": [],
   "source": [
    "raw_paths = {'rates':os.path.join(raw_path, 'raw_rates'),\n",
    "             'plans':os.path.join(raw_path, 'raw_plans'),\n",
    "             'state_gdp':os.path.join(raw_path, 'raw_state_gdp')}\n",
    "\n",
    "bronze_paths = {'rates':os.path.join(bronze_path, \"rates\"),\n",
    "                'plans':os.path.join(bronze_path, \"plans\"),\n",
    "                'state_gdp':os.path.join(bronze_path, 'state_gdp')}\n",
    "\n",
    "silver_paths = {'rates':os.path.join(silver_path, \"rates\"),\n",
    "                'plans':os.path.join(silver_path, \"plans\")}\n",
    "\n",
    "gold_paths = {'rates_fact':os.path.join(gold_path, \"rates_fact\"),\n",
    "              'plans_dim_scd':os.path.join(gold_path, \"plans_dim_scd\"),\n",
    "              'state_gdp':os.path.join(gold_path, 'state_gdp_dim')}"
   ]
  },
  {
   "cell_type": "code",
   "execution_count": 0,
   "metadata": {
    "application/vnd.databricks.v1+cell": {
     "cellMetadata": {
      "byteLimit": 2048000,
      "rowLimit": 10000
     },
     "inputWidgets": {},
     "nuid": "14939c9b-8d1d-4381-a65c-58e9e3cbb8a5",
     "showTitle": false,
     "tableResultSettingsMap": {},
     "title": ""
    }
   },
   "outputs": [],
   "source": [
    "bronze_tables = {'rates':f'.bronze.rates_bronze',\n",
    "                 'plans':f'.bronze.plans_bronze',\n",
    "                 'state_gdp':f'.bronze.state_gdp_bronze'}\n",
    "silver_tables = {'rates':f'.silver.rates_silver',\n",
    "                 'plans':f'.silver.plans_silver'}\n",
    "gold_tables = {'rates_fact':f'.gold.rates_fact',\n",
    "               'plans_dim_scd':f'.gold.plans_dim_scd',\n",
    "               'state_gdp':f'.gold.state_gdp_dim'}\n"
   ]
  },
  {
   "cell_type": "code",
   "execution_count": 0,
   "metadata": {
    "application/vnd.databricks.v1+cell": {
     "cellMetadata": {
      "byteLimit": 2048000,
      "rowLimit": 10000
     },
     "inputWidgets": {},
     "nuid": "ae2c522b-a325-4cdd-b20f-aa2be929d195",
     "showTitle": false,
     "tableResultSettingsMap": {},
     "title": ""
    }
   },
   "outputs": [],
   "source": []
  }
 ],
 "metadata": {
  "application/vnd.databricks.v1+notebook": {
   "computePreferences": null,
   "dashboards": [],
   "environmentMetadata": {
    "base_environment": "",
    "environment_version": "2"
   },
   "language": "python",
   "notebookMetadata": {
    "pythonIndentUnit": 4
   },
   "notebookName": "paths",
   "widgets": {}
  },
  "language_info": {
   "name": "python"
  }
 },
 "nbformat": 4,
 "nbformat_minor": 0
}