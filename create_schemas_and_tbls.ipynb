{
 "cells": [
  {
   "cell_type": "code",
   "execution_count": 0,
   "metadata": {
    "application/vnd.databricks.v1+cell": {
     "cellMetadata": {
      "byteLimit": 2048000,
      "rowLimit": 10000
     },
     "inputWidgets": {},
     "nuid": "29a71be4-c51b-4864-86af-a25891f60a5f",
     "showTitle": false,
     "tableResultSettingsMap": {},
     "title": ""
    }
   },
   "outputs": [
    {
     "output_type": "execute_result",
     "data": {
      "text/plain": [
       "'dev'"
      ]
     },
     "execution_count": 2,
     "metadata": {},
     "output_type": "execute_result"
    }
   ],
   "source": [
    "dbutils.widgets.text(name=\"env\", defaultValue=\"\", label=\"Enter environment\")\n",
    "env = dbutils.widgets.get(\"env\")\n",
    "env"
   ]
  },
  {
   "cell_type": "code",
   "execution_count": 0,
   "metadata": {
    "application/vnd.databricks.v1+cell": {
     "cellMetadata": {
      "byteLimit": 2048000,
      "rowLimit": 10000
     },
     "inputWidgets": {},
     "nuid": "58b2872d-9e65-47ae-9242-d72d45eb6efe",
     "showTitle": false,
     "tableResultSettingsMap": {},
     "title": ""
    }
   },
   "outputs": [
    {
     "output_type": "execute_result",
     "data": {
      "text/plain": [
       "('abfss://landing@dlsunitycat.dfs.core.windows.net/',\n",
       " 'abfss://medallion@dlsunitycat.dfs.core.windows.net/bronze',\n",
       " 'abfss://medallion@dlsunitycat.dfs.core.windows.net/silver',\n",
       " 'abfss://medallion@dlsunitycat.dfs.core.windows.net/gold')"
      ]
     },
     "execution_count": 4,
     "metadata": {},
     "output_type": "execute_result"
    }
   ],
   "source": [
    "%run \"./paths\""
   ]
  },
  {
   "cell_type": "code",
   "execution_count": 0,
   "metadata": {
    "application/vnd.databricks.v1+cell": {
     "cellMetadata": {
      "byteLimit": 2048000,
      "rowLimit": 10000
     },
     "inputWidgets": {},
     "nuid": "dc2c261d-439a-4824-b075-cb8ffb0c26bc",
     "showTitle": false,
     "tableResultSettingsMap": {},
     "title": ""
    }
   },
   "outputs": [],
   "source": [
    "from itertools import cycle, starmap\n",
    "\n",
    "def create_schema(catalog, schema):\n",
    "    print(f\"Using {catalog}\")\n",
    "    spark.sql(f'use catalog {catalog}')\n",
    "    print(f\"Creating schema {schema} if not exists in {catalog}\")\n",
    "    path = spark.sql(f'DESCRIBE EXTERNAL LOCATION {schema}').select('url').collect()[0].url\n",
    "    print(f'Using path {path}')\n",
    "    spark.sql(f\"create schema if not exists {schema} managed location '{path}'\")\n",
    "    print('Schema Created.')\n",
    "    print()"
   ]
  },
  {
   "cell_type": "code",
   "execution_count": 0,
   "metadata": {
    "application/vnd.databricks.v1+cell": {
     "cellMetadata": {
      "byteLimit": 2048000,
      "rowLimit": 10000
     },
     "inputWidgets": {},
     "nuid": "65a1bbe5-adca-416f-b0b0-b86e0253dee0",
     "showTitle": false,
     "tableResultSettingsMap": {},
     "title": ""
    }
   },
   "outputs": [
    {
     "output_type": "stream",
     "name": "stdout",
     "output_type": "stream",
     "text": [
      "Using dev_catalog\nCreating schema bronze if not exists in dev_catalog\nUsing path abfss://medallion@dlsunitycat.dfs.core.windows.net/bronze\nSchema Created.\n\nUsing dev_catalog\nCreating schema silver if not exists in dev_catalog\nUsing path abfss://medallion@dlsunitycat.dfs.core.windows.net/silver\nSchema Created.\n\nUsing dev_catalog\nCreating schema gold if not exists in dev_catalog\nUsing path abfss://medallion@dlsunitycat.dfs.core.windows.net/gold\nSchema Created.\n\n"
     ]
    }
   ],
   "source": [
    "catalog = f'{env}_catalog'\n",
    "schemas = ['bronze', 'silver', 'gold']\n",
    "catalog_tup = (catalog,)\n",
    "_ = list(starmap(create_schema, zip(cycle(catalog_tup), schemas)))"
   ]
  },
  {
   "cell_type": "code",
   "execution_count": 0,
   "metadata": {
    "application/vnd.databricks.v1+cell": {
     "cellMetadata": {
      "byteLimit": 2048000,
      "rowLimit": 10000
     },
     "inputWidgets": {},
     "nuid": "0f3568f8-adba-48b2-9fae-bcf9ea4b93c0",
     "showTitle": false,
     "tableResultSettingsMap": {},
     "title": ""
    }
   },
   "outputs": [],
   "source": [
    "def create_table(catalog, table, path, create_tbl_query):\n",
    "    table = f'{catalog}{table}'\n",
    "    print(f\"Creating table {table} if not exists\")\n",
    "    create_tbl_query(table, path)\n",
    "    print('Table created.')\n",
    "    print()"
   ]
  },
  {
   "cell_type": "code",
   "execution_count": 0,
   "metadata": {
    "application/vnd.databricks.v1+cell": {
     "cellMetadata": {
      "byteLimit": 2048000,
      "rowLimit": 10000
     },
     "inputWidgets": {},
     "nuid": "6d136517-6a2d-4100-8811-1722fce35a88",
     "showTitle": false,
     "tableResultSettingsMap": {},
     "title": ""
    }
   },
   "outputs": [],
   "source": [
    "create_bronze_rates_table = lambda table, path : spark.sql(\n",
    "    f\"\"\"\n",
    "    CREATE EXTERNAL TABLE IF NOT EXISTS {table} (\n",
    "        business_year INT,\n",
    "        state_code STRING,\n",
    "        plan_id STRING,\n",
    "        rating_area_id STRING,\n",
    "        age STRING,\n",
    "        rate DOUBLE,\n",
    "        date_ingested TIMESTAMP\n",
    "    )\n",
    "    USING DELTA\n",
    "    LOCATION '{path}'\n",
    "\"\"\"\n",
    ")\n",
    "\n",
    "create_bronze_plans_table = lambda table, path : spark.sql(\n",
    "    f\"\"\"\n",
    "    CREATE EXTERNAL TABLE IF NOT EXISTS {table} (\n",
    "        business_year INT,\n",
    "        state_code STRING,\n",
    "        dental_only_plan STRING,\n",
    "        plan_id STRING,\n",
    "        metal_level STRING,\n",
    "        new_plan STRING,\n",
    "        plan_type STRING,\n",
    "        date_ingested TIMESTAMP\n",
    "    )\n",
    "    USING DELTA\n",
    "    LOCATION '{path}'\n",
    "\"\"\"\n",
    ")\n",
    "\n",
    "create_bronze_state_gdp_table = lambda table, path: spark.sql(\n",
    "    f\"\"\"\n",
    "    CREATE EXTERNAL TABLE IF NOT EXISTS {table} (\n",
    "        GeoFIPS STRING,\n",
    "        GeoName STRING,\n",
    "        Region STRING,\n",
    "        TableName STRING,\n",
    "        LineCode INT,\n",
    "        IndustryClassification STRING,\n",
    "        Description STRING,\n",
    "        Unit STRING,\n",
    "        business_year INT,\n",
    "        quarter STRING,\n",
    "        value DOUBLE,\n",
    "        date_ingested TIMESTAMP\n",
    "    )\n",
    "    USING DELTA\n",
    "    LOCATION '{path}'\n",
    "\"\"\"\n",
    ")\n",
    "\n",
    "create_silver_rates_table = lambda table, path : spark.sql(\n",
    "    f\"\"\"\n",
    "    CREATE EXTERNAL TABLE IF NOT EXISTS {table} (\n",
    "        business_year INT,\n",
    "        state_code STRING,\n",
    "        plan_id STRING,\n",
    "        rating_area_id STRING,\n",
    "        age INT,\n",
    "        rate DOUBLE,\n",
    "        age_category STRING,\n",
    "        date_ingested TIMESTAMP\n",
    "    )\n",
    "    USING DELTA\n",
    "    LOCATION '{path}'\n",
    "\"\"\"\n",
    ")\n",
    "\n",
    "create_silver_plans_table = lambda table, path : spark.sql(\n",
    "    f\"\"\"\n",
    "    CREATE EXTERNAL TABLE IF NOT EXISTS {table} (\n",
    "        business_year INT,\n",
    "        state_code STRING,\n",
    "        plan_id STRING,\n",
    "        metal_level STRING,\n",
    "        new_plan STRING,\n",
    "        plan_type STRING,\n",
    "        pandemic_era STRING,\n",
    "        date_ingested TIMESTAMP\n",
    "    )\n",
    "    USING DELTA\n",
    "    LOCATION '{path}'\n",
    "\"\"\"\n",
    ")"
   ]
  },
  {
   "cell_type": "code",
   "execution_count": 0,
   "metadata": {
    "application/vnd.databricks.v1+cell": {
     "cellMetadata": {
      "byteLimit": 2048000,
      "rowLimit": 10000
     },
     "inputWidgets": {},
     "nuid": "77a431f6-30d9-474e-965d-bccfb6fd5948",
     "showTitle": false,
     "tableResultSettingsMap": {},
     "title": ""
    }
   },
   "outputs": [],
   "source": [
    "create_gold_rates_fact_table = lambda table, path : spark.sql(\n",
    "    f\"\"\"\n",
    "    CREATE EXTERNAL TABLE IF NOT EXISTS {table} (\n",
    "        plan_id STRING,\n",
    "        state_code STRING,\n",
    "        current_year INT,\n",
    "        age_category_and_year ARRAY<STRUCT<\n",
    "            age_0_19 DECIMAL(10,2),\n",
    "            age_20_29 DECIMAL(10,2),\n",
    "            age_30_39 DECIMAL(10,2),\n",
    "            age_40_49 DECIMAL(10,2),\n",
    "            age_50_59 DECIMAL(10,2),\n",
    "            age_60_plus DECIMAL(10,2),\n",
    "            business_year INT\n",
    "        >>,\n",
    "        date_ingested TIMESTAMP\n",
    "    )\n",
    "    USING DELTA\n",
    "    LOCATION '{path}'\n",
    "\"\"\"\n",
    ")\n",
    "\n",
    "create_gold_plans_dim_table = lambda table, path : spark.sql(\n",
    "    f\"\"\"\n",
    "    CREATE EXTERNAL TABLE IF NOT EXISTS {table} (\n",
    "        plan_id STRING,\n",
    "\t    metal_level STRING,\n",
    "\t    new_plan STRING,\n",
    "        plan_type STRING,\n",
    "        pandemic_era STRING,\n",
    "\t    start_year INT,\n",
    "\t    end_year INT,\n",
    "\t    current_year INT,\n",
    "        date_ingested TIMESTAMP\n",
    "    )\n",
    "    USING DELTA\n",
    "    LOCATION '{path}'\n",
    "\"\"\"\n",
    ")\n",
    "\n",
    "create_gold_state_gdp_table = lambda table, path : spark.sql(\n",
    "    f\"\"\"\n",
    "    CREATE EXTERNAL TABLE IF NOT EXISTS {table} (\n",
    "        state_code STRING,\n",
    "        business_year INT,\n",
    "        average_gdp DECIMAL(10,2),\n",
    "        date_ingested TIMESTAMP\n",
    "    )\n",
    "    USING DELTA\n",
    "    LOCATION '{path}'\n",
    "\"\"\"\n",
    ")\n",
    "\n"
   ]
  },
  {
   "cell_type": "code",
   "execution_count": 0,
   "metadata": {
    "application/vnd.databricks.v1+cell": {
     "cellMetadata": {
      "byteLimit": 2048000,
      "rowLimit": 10000
     },
     "inputWidgets": {},
     "nuid": "c5371294-b5a8-456c-bd12-983aad5f802e",
     "showTitle": false,
     "tableResultSettingsMap": {},
     "title": ""
    }
   },
   "outputs": [],
   "source": [
    "bronze_sql = {'rates' : create_bronze_rates_table,\n",
    "              'plans':create_bronze_plans_table,\n",
    "              'state_gdp':create_bronze_state_gdp_table}\n",
    "\n",
    "silver_sql = {'rates' : create_silver_rates_table,\n",
    "              'plans': create_silver_plans_table}\n",
    "gold_sql = {'rates_fact' : create_gold_rates_fact_table,\n",
    "            'plans_dim_scd': create_gold_plans_dim_table,\n",
    "            'state_gdp': create_gold_state_gdp_table}"
   ]
  },
  {
   "cell_type": "code",
   "execution_count": 0,
   "metadata": {
    "application/vnd.databricks.v1+cell": {
     "cellMetadata": {
      "byteLimit": 2048000,
      "rowLimit": 10000
     },
     "inputWidgets": {},
     "nuid": "073123ea-152b-45aa-ab16-8fa96097d39e",
     "showTitle": false,
     "tableResultSettingsMap": {},
     "title": ""
    }
   },
   "outputs": [],
   "source": [
    "bronze_table_names = ['rates', 'plans', 'state_gdp']\n",
    "silver_table_names = ['rates', 'plans']\n",
    "gold_table_names = ['rates_fact', 'plans_dim_scd', 'state_gdp']"
   ]
  },
  {
   "cell_type": "code",
   "execution_count": 0,
   "metadata": {
    "application/vnd.databricks.v1+cell": {
     "cellMetadata": {
      "byteLimit": 2048000,
      "rowLimit": 10000
     },
     "inputWidgets": {},
     "nuid": "52fbdab2-b5ff-4d7a-bdcd-fe6264c9ece3",
     "showTitle": false,
     "tableResultSettingsMap": {},
     "title": ""
    }
   },
   "outputs": [
    {
     "output_type": "stream",
     "name": "stdout",
     "output_type": "stream",
     "text": [
      "Creating table dev_catalog.bronze.rates_bronze if not exists\nTable created.\n\nCreating table dev_catalog.bronze.plans_bronze if not exists\nTable created.\n\nCreating table dev_catalog.bronze.state_gdp_bronze if not exists\nTable created.\n\nCreating table dev_catalog.silver.rates_silver if not exists\nTable created.\n\nCreating table dev_catalog.silver.plans_silver if not exists\nTable created.\n\nCreating table dev_catalog.gold.rates_fact if not exists\nTable created.\n\nCreating table dev_catalog.gold.plans_dim_scd if not exists\nTable created.\n\nCreating table dev_catalog.gold.state_gdp_dim if not exists\nTable created.\n\n"
     ]
    }
   ],
   "source": [
    "for tbl in bronze_table_names:\n",
    "    create_table(catalog, bronze_tables[tbl], bronze_paths[tbl], bronze_sql[tbl])\n",
    "for tbl in silver_table_names:\n",
    "    create_table(catalog, silver_tables[tbl], silver_paths[tbl], silver_sql[tbl])\n",
    "for tbl in gold_table_names:\n",
    "    create_table(catalog, gold_tables[tbl], gold_paths[tbl], gold_sql[tbl])"
   ]
  }
 ],
 "metadata": {
  "application/vnd.databricks.v1+notebook": {
   "computePreferences": null,
   "dashboards": [],
   "environmentMetadata": {
    "base_environment": "",
    "environment_version": "2"
   },
   "language": "python",
   "notebookMetadata": {
    "pythonIndentUnit": 4
   },
   "notebookName": "create_schemas_and_tbls",
   "widgets": {
    "env": {
     "currentValue": "dev",
     "nuid": "0cfc1166-ce4c-472f-a42a-6beeab61c0fd",
     "typedWidgetInfo": {
      "autoCreated": false,
      "defaultValue": "",
      "label": "Enter environment",
      "name": "env",
      "options": {
       "widgetDisplayType": "Text",
       "validationRegex": null
      },
      "parameterDataType": "String"
     },
     "widgetInfo": {
      "widgetType": "text",
      "defaultValue": "",
      "label": "Enter environment",
      "name": "env",
      "options": {
       "widgetType": "text",
       "autoCreated": null,
       "validationRegex": null
      }
     }
    }
   }
  },
  "language_info": {
   "name": "python"
  }
 },
 "nbformat": 4,
 "nbformat_minor": 0
}